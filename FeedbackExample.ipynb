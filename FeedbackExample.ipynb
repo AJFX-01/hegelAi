{
 "cells": [
  {
   "cell_type": "code",
   "execution_count": 1,
   "id": "517c0b32",
   "metadata": {},
   "outputs": [],
   "source": [
    "import os\n",
    "os.environ['DEBUG']=\"1\""
   ]
  },
  {
   "cell_type": "code",
   "execution_count": 2,
   "id": "3c3b73e6",
   "metadata": {},
   "outputs": [
    {
     "data": {
      "application/vnd.jupyter.widget-view+json": {
       "model_id": "c2cdc6a7ecee489aa841168d547f5d3d",
       "version_major": 2,
       "version_minor": 0
      },
      "text/plain": [
       "GridBox(children=(Label(value='prompt_template'), Label(value='user_input'), Label(value='response(s)'), Label…"
      ]
     },
     "metadata": {},
     "output_type": "display_data"
    },
    {
     "data": {
      "text/html": [
       "<div>\n",
       "<style scoped>\n",
       "    .dataframe tbody tr th:only-of-type {\n",
       "        vertical-align: middle;\n",
       "    }\n",
       "\n",
       "    .dataframe tbody tr th {\n",
       "        vertical-align: top;\n",
       "    }\n",
       "\n",
       "    .dataframe thead th {\n",
       "        text-align: right;\n",
       "    }\n",
       "</style>\n",
       "<table border=\"1\" class=\"dataframe\">\n",
       "  <thead>\n",
       "    <tr style=\"text-align: right;\">\n",
       "      <th></th>\n",
       "      <th>prompt_template</th>\n",
       "      <th>feedback_score</th>\n",
       "    </tr>\n",
       "  </thead>\n",
       "  <tbody>\n",
       "    <tr>\n",
       "      <th>0</th>\n",
       "      <td>Answer the following question: {{input}}</td>\n",
       "      <td>1</td>\n",
       "    </tr>\n",
       "    <tr>\n",
       "      <th>1</th>\n",
       "      <td>Anwer the following question: {{input}}</td>\n",
       "      <td>1</td>\n",
       "    </tr>\n",
       "  </tbody>\n",
       "</table>\n",
       "</div>"
      ],
      "text/plain": [
       "                            prompt_template  feedback_score\n",
       "0  Answer the following question: {{input}}  1             \n",
       "1  Anwer the following question: {{input}}   1             "
      ]
     },
     "metadata": {},
     "output_type": "display_data"
    },
    {
     "data": {
      "text/html": [
       "<div>\n",
       "<style scoped>\n",
       "    .dataframe tbody tr th:only-of-type {\n",
       "        vertical-align: middle;\n",
       "    }\n",
       "\n",
       "    .dataframe tbody tr th {\n",
       "        vertical-align: top;\n",
       "    }\n",
       "\n",
       "    .dataframe thead th {\n",
       "        text-align: right;\n",
       "    }\n",
       "</style>\n",
       "<table border=\"1\" class=\"dataframe\">\n",
       "  <thead>\n",
       "    <tr style=\"text-align: right;\">\n",
       "      <th></th>\n",
       "      <th>prompt_template</th>\n",
       "      <th>feedback_score</th>\n",
       "    </tr>\n",
       "  </thead>\n",
       "  <tbody>\n",
       "    <tr>\n",
       "      <th>0</th>\n",
       "      <td>Anwer the following question: {{input}}</td>\n",
       "      <td>1</td>\n",
       "    </tr>\n",
       "    <tr>\n",
       "      <th>1</th>\n",
       "      <td>Answer the following question: {{input}}</td>\n",
       "      <td>0</td>\n",
       "    </tr>\n",
       "  </tbody>\n",
       "</table>\n",
       "</div>"
      ],
      "text/plain": [
       "                            prompt_template  feedback_score\n",
       "0  Anwer the following question: {{input}}   1             \n",
       "1  Answer the following question: {{input}}  0             "
      ]
     },
     "metadata": {},
     "output_type": "display_data"
    },
    {
     "data": {
      "text/html": [
       "<div>\n",
       "<style scoped>\n",
       "    .dataframe tbody tr th:only-of-type {\n",
       "        vertical-align: middle;\n",
       "    }\n",
       "\n",
       "    .dataframe tbody tr th {\n",
       "        vertical-align: top;\n",
       "    }\n",
       "\n",
       "    .dataframe thead th {\n",
       "        text-align: right;\n",
       "    }\n",
       "</style>\n",
       "<table border=\"1\" class=\"dataframe\">\n",
       "  <thead>\n",
       "    <tr style=\"text-align: right;\">\n",
       "      <th></th>\n",
       "      <th>prompt_template</th>\n",
       "      <th>feedback_score</th>\n",
       "    </tr>\n",
       "  </thead>\n",
       "  <tbody>\n",
       "    <tr>\n",
       "      <th>0</th>\n",
       "      <td>Answer the following question: {{input}}</td>\n",
       "      <td>1</td>\n",
       "    </tr>\n",
       "    <tr>\n",
       "      <th>1</th>\n",
       "      <td>Anwer the following question: {{input}}</td>\n",
       "      <td>0</td>\n",
       "    </tr>\n",
       "  </tbody>\n",
       "</table>\n",
       "</div>"
      ],
      "text/plain": [
       "                            prompt_template  feedback_score\n",
       "0  Answer the following question: {{input}}  1             \n",
       "1  Anwer the following question: {{input}}   0             "
      ]
     },
     "metadata": {},
     "output_type": "display_data"
    }
   ],
   "source": [
    "from typing import Dict, List\n",
    "from prompttools.experiment.openai_completion_experiment import (\n",
    "    OpenAICompletionExperiment,\n",
    ")\n",
    "from prompttools.harness.prompt_template_harness import (\n",
    "    PromptTemplateExperimentationHarness,\n",
    ")\n",
    "\n",
    "\n",
    "def extract_responses(output) -> str:\n",
    "    return [choice[\"message\"][\"content\"] for choice in output[\"choices\"]]\n",
    "\n",
    "# Define a list of chat histories over which to run your experiment\n",
    "prompt_templates = [\"Answer the following question: {{input}}\", \"Anwer the following question: {{input}}\"]\n",
    "user_inputs = [{\"input\": \"Who won the world series in 2020?\"}]\n",
    "\n",
    "\n",
    "# Define an evaluation function that assigns scores to each inference\n",
    "def eval_fn(messages: List[Dict[str, str]], results: Dict) -> float:\n",
    "    responses = extract_responses(results)\n",
    "    for response in responses:\n",
    "        if \"Dodgers\" in response:\n",
    "            return 1.0\n",
    "    return 0.0\n",
    "\n",
    "\n",
    "# Define an experimentation harness using the class name for the underlying experiment\n",
    "harness = PromptTemplateExperimentationHarness(\n",
    "    OpenAICompletionExperiment, \"gpt-3.5-turbo\", prompt_templates, user_inputs\n",
    ")\n",
    "\n",
    "# Run the evaluation\n",
    "harness.prepare()\n",
    "harness.run()\n",
    "harness.evaluate(\"names_dodgers\", eval_fn)\n",
    "harness.gather_feedback()"
   ]
  },
  {
   "cell_type": "code",
   "execution_count": 3,
   "id": "339c559a",
   "metadata": {},
   "outputs": [
    {
     "data": {
      "text/html": [
       "<div>\n",
       "<style scoped>\n",
       "    .dataframe tbody tr th:only-of-type {\n",
       "        vertical-align: middle;\n",
       "    }\n",
       "\n",
       "    .dataframe tbody tr th {\n",
       "        vertical-align: top;\n",
       "    }\n",
       "\n",
       "    .dataframe thead th {\n",
       "        text-align: right;\n",
       "    }\n",
       "</style>\n",
       "<table border=\"1\" class=\"dataframe\">\n",
       "  <thead>\n",
       "    <tr style=\"text-align: right;\">\n",
       "      <th></th>\n",
       "      <th>messages</th>\n",
       "      <th>response(s)</th>\n",
       "      <th>latency</th>\n",
       "      <th>names_dodgers</th>\n",
       "    </tr>\n",
       "  </thead>\n",
       "  <tbody>\n",
       "    <tr>\n",
       "      <th>0</th>\n",
       "      <td>Answer the following question: Who won the world series in 2020?</td>\n",
       "      <td>[\\n\\nThe Los Angeles Dodgers won the World Series in 2020]</td>\n",
       "      <td>0.000003</td>\n",
       "      <td>1.0</td>\n",
       "    </tr>\n",
       "    <tr>\n",
       "      <th>1</th>\n",
       "      <td>Anwer the following question: Who won the world series in 2020?</td>\n",
       "      <td>[\\n\\nThe Los Angeles Dodgers won the World Series in 2020]</td>\n",
       "      <td>0.000001</td>\n",
       "      <td>1.0</td>\n",
       "    </tr>\n",
       "  </tbody>\n",
       "</table>\n",
       "</div>"
      ],
      "text/plain": [
       "                                                           messages   \n",
       "0  Answer the following question: Who won the world series in 2020?  \\\n",
       "1  Anwer the following question: Who won the world series in 2020?    \n",
       "\n",
       "                                                  response(s)   latency   \n",
       "0  [\\n\\nThe Los Angeles Dodgers won the World Series in 2020]  0.000003  \\\n",
       "1  [\\n\\nThe Los Angeles Dodgers won the World Series in 2020]  0.000001   \n",
       "\n",
       "   names_dodgers  \n",
       "0  1.0            \n",
       "1  1.0            "
      ]
     },
     "metadata": {},
     "output_type": "display_data"
    }
   ],
   "source": [
    "harness.visualize()"
   ]
  },
  {
   "cell_type": "code",
   "execution_count": null,
   "id": "4fe3e816",
   "metadata": {},
   "outputs": [],
   "source": []
  }
 ],
 "metadata": {
  "kernelspec": {
   "display_name": "Python 3 (ipykernel)",
   "language": "python",
   "name": "python3"
  },
  "language_info": {
   "codemirror_mode": {
    "name": "ipython",
    "version": 3
   },
   "file_extension": ".py",
   "mimetype": "text/x-python",
   "name": "python",
   "nbconvert_exporter": "python",
   "pygments_lexer": "ipython3",
   "version": "3.11.4"
  }
 },
 "nbformat": 4,
 "nbformat_minor": 5
}
