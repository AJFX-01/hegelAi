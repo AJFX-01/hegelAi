{
 "cells": [
  {
   "cell_type": "code",
   "execution_count": 1,
   "id": "517c0b32",
   "metadata": {},
   "outputs": [],
   "source": [
    "import os\n",
    "os.environ['DEBUG']=\"1\""
   ]
  },
  {
   "cell_type": "code",
   "execution_count": 2,
   "id": "3c3b73e6",
   "metadata": {},
   "outputs": [
    {
     "data": {
      "application/vnd.jupyter.widget-view+json": {
       "model_id": "967f6beacd4e4a6b869fa5c1dd6f718f",
       "version_major": 2,
       "version_minor": 0
      },
      "text/plain": [
       "GridBox(children=(Label(value='prompt_template'), Label(value='user_input'), Label(value='response(s)'), Label…"
      ]
     },
     "metadata": {},
     "output_type": "display_data"
    }
   ],
   "source": [
    "from typing import Dict, List\n",
    "from prompttools.experiment.openai_completion_experiment import (\n",
    "    OpenAICompletionExperiment,\n",
    ")\n",
    "from prompttools.harness.prompt_template_harness import (\n",
    "    PromptTemplateExperimentationHarness,\n",
    ")\n",
    "\n",
    "# Define a list of chat histories over which to run your experiment\n",
    "prompt_templates = [\"Answer the following question: {{input}}\", \"Anwer the following question: {{input}}\"]\n",
    "user_inputs = [{\"input\": \"Who won the world series in 2020?\"}]\n",
    "\n",
    "\n",
    "# Define an evaluation function that assigns scores to each inference\n",
    "def eval_fn(messages: List[Dict[str, str]], results: List[str]) -> float:\n",
    "    for result in results:\n",
    "        if \"Dodgers\" in result:\n",
    "            return 1.0\n",
    "    return 0.0\n",
    "\n",
    "\n",
    "# Define an experimentation harness using the class name for the underlying experiment\n",
    "harness = PromptTemplateExperimentationHarness(\n",
    "    OpenAICompletionExperiment, \"gpt-3.5-turbo\", prompt_templates, user_inputs\n",
    ")\n",
    "\n",
    "# Run the evaluation\n",
    "harness.prepare()\n",
    "harness.run()\n",
    "harness.evaluate(eval_fn)\n",
    "harness.visualize(feedback=True)"
   ]
  },
  {
   "cell_type": "code",
   "execution_count": 3,
   "id": "339c559a",
   "metadata": {},
   "outputs": [
    {
     "name": "stdout",
     "output_type": "stream",
     "text": [
      "👍\n",
      "👎\n"
     ]
    }
   ],
   "source": [
    "print(\"\\U0001F44D\")\n",
    "print(\"\\U0001F44E\")"
   ]
  },
  {
   "cell_type": "code",
   "execution_count": null,
   "id": "4fe3e816",
   "metadata": {},
   "outputs": [],
   "source": []
  }
 ],
 "metadata": {
  "kernelspec": {
   "display_name": "Python 3 (ipykernel)",
   "language": "python",
   "name": "python3"
  },
  "language_info": {
   "codemirror_mode": {
    "name": "ipython",
    "version": 3
   },
   "file_extension": ".py",
   "mimetype": "text/x-python",
   "name": "python",
   "nbconvert_exporter": "python",
   "pygments_lexer": "ipython3",
   "version": "3.11.4"
  }
 },
 "nbformat": 4,
 "nbformat_minor": 5
}
