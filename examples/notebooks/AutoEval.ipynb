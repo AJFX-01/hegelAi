{
 "cells": [
  {
   "attachments": {},
   "cell_type": "markdown",
   "id": "a7dea195",
   "metadata": {},
   "source": [
    "# Auto-Evaluation Example"
   ]
  },
  {
   "attachments": {},
   "cell_type": "markdown",
   "id": "6a80e19b",
   "metadata": {},
   "source": [
    "## Setup imports and API keys"
   ]
  },
  {
   "attachments": {},
   "cell_type": "markdown",
   "id": "28f1521a",
   "metadata": {},
   "source": [
    "First, we'll need to set our API keys. If we are in DEBUG mode, we don't need to use real OpenAI or Hegel AI API keys, so for now we'll set them to empty strings."
   ]
  },
  {
   "cell_type": "code",
   "execution_count": 1,
   "id": "1eb85245",
   "metadata": {},
   "outputs": [],
   "source": [
    "import os\n",
    "os.environ['DEBUG']=\"1\"\n",
    "os.environ['HEGELAI_API_KEY'] = \"\"\n",
    "os.environ['OPENAI_API_KEY'] = \"\""
   ]
  },
  {
   "attachments": {},
   "cell_type": "markdown",
   "id": "497ac0bb",
   "metadata": {},
   "source": [
    "Then we'll import the relevant `prompttools` modules to setup our experiment."
   ]
  },
  {
   "cell_type": "code",
   "execution_count": 2,
   "id": "ad3859e7",
   "metadata": {},
   "outputs": [],
   "source": [
    "from typing import Dict, List\n",
    "from prompttools.experiment.openai_completion_experiment import (\n",
    "    OpenAICompletionExperiment,\n",
    ")\n",
    "from prompttools.harness.prompt_template_harness import (\n",
    "    PromptTemplateExperimentationHarness,\n",
    ")"
   ]
  },
  {
   "attachments": {},
   "cell_type": "markdown",
   "id": "ffcfbb5b",
   "metadata": {},
   "source": [
    "## Run experiments"
   ]
  },
  {
   "attachments": {},
   "cell_type": "markdown",
   "id": "f517570f",
   "metadata": {},
   "source": [
    "Next, we create our test inputs. For this example, we'll use a prompt template, which uses [jinja](https://jinja.palletsprojects.com/en/3.1.x/) for templating."
   ]
  },
  {
   "cell_type": "code",
   "execution_count": 3,
   "id": "29408faa",
   "metadata": {},
   "outputs": [],
   "source": [
    "prompt_templates = [\"Echo the following input: {{input}}\", \"Repeat the following input: {{input}}\"]\n",
    "user_inputs = [{\"input\": \"This is a test\"}, {\"input\": \"This is not a test\"}]"
   ]
  },
  {
   "attachments": {},
   "cell_type": "markdown",
   "id": "0c9a1777",
   "metadata": {},
   "source": [
    "Now we can define an experimentation harness for our inputs and model. We could also pass model arguments if, for example, we wanted to change the model temperature."
   ]
  },
  {
   "cell_type": "code",
   "execution_count": 4,
   "id": "69159622",
   "metadata": {},
   "outputs": [],
   "source": [
    "harness = PromptTemplateExperimentationHarness(\"gpt-3.5-turbo\", prompt_templates, user_inputs)"
   ]
  },
  {
   "attachments": {},
   "cell_type": "markdown",
   "id": "af04bd60",
   "metadata": {},
   "source": [
    "We can then run the experiment to get results."
   ]
  },
  {
   "cell_type": "code",
   "execution_count": 5,
   "id": "744ab156",
   "metadata": {},
   "outputs": [
    {
     "data": {
      "text/html": [
       "<div>\n",
       "<style scoped>\n",
       "    .dataframe tbody tr th:only-of-type {\n",
       "        vertical-align: middle;\n",
       "    }\n",
       "\n",
       "    .dataframe tbody tr th {\n",
       "        vertical-align: top;\n",
       "    }\n",
       "\n",
       "    .dataframe thead th {\n",
       "        text-align: right;\n",
       "    }\n",
       "</style>\n",
       "<table border=\"1\" class=\"dataframe\">\n",
       "  <thead>\n",
       "    <tr style=\"text-align: right;\">\n",
       "      <th></th>\n",
       "      <th>messages</th>\n",
       "      <th>response(s)</th>\n",
       "      <th>latency</th>\n",
       "    </tr>\n",
       "  </thead>\n",
       "  <tbody>\n",
       "    <tr>\n",
       "      <th>0</th>\n",
       "      <td>Echo the following input: This is a test</td>\n",
       "      <td>[\\n\\nThe Los Angeles Dodgers won the World Series in 2020]</td>\n",
       "      <td>0.000004</td>\n",
       "    </tr>\n",
       "    <tr>\n",
       "      <th>1</th>\n",
       "      <td>Echo the following input: This is not a test</td>\n",
       "      <td>[\\n\\nThe Los Angeles Dodgers won the World Series in 2020]</td>\n",
       "      <td>0.000002</td>\n",
       "    </tr>\n",
       "    <tr>\n",
       "      <th>2</th>\n",
       "      <td>Repeat the following input: This is a test</td>\n",
       "      <td>[\\n\\nThe Los Angeles Dodgers won the World Series in 2020]</td>\n",
       "      <td>0.000002</td>\n",
       "    </tr>\n",
       "    <tr>\n",
       "      <th>3</th>\n",
       "      <td>Repeat the following input: This is not a test</td>\n",
       "      <td>[\\n\\nThe Los Angeles Dodgers won the World Series in 2020]</td>\n",
       "      <td>0.000002</td>\n",
       "    </tr>\n",
       "  </tbody>\n",
       "</table>\n",
       "</div>"
      ],
      "text/plain": [
       "                                         messages   \n",
       "0  Echo the following input: This is a test        \\\n",
       "1  Echo the following input: This is not a test     \n",
       "2  Repeat the following input: This is a test       \n",
       "3  Repeat the following input: This is not a test   \n",
       "\n",
       "                                                  response(s)   latency  \n",
       "0  [\\n\\nThe Los Angeles Dodgers won the World Series in 2020]  0.000004  \n",
       "1  [\\n\\nThe Los Angeles Dodgers won the World Series in 2020]  0.000002  \n",
       "2  [\\n\\nThe Los Angeles Dodgers won the World Series in 2020]  0.000002  \n",
       "3  [\\n\\nThe Los Angeles Dodgers won the World Series in 2020]  0.000002  "
      ]
     },
     "metadata": {},
     "output_type": "display_data"
    }
   ],
   "source": [
    "harness.prepare()\n",
    "harness.run()\n",
    "harness.visualize()"
   ]
  },
  {
   "attachments": {},
   "cell_type": "markdown",
   "id": "637a7391",
   "metadata": {},
   "source": [
    "You can use the `pivot` keyword argument to view results by the template and inputs that created them."
   ]
  },
  {
   "cell_type": "code",
   "execution_count": 6,
   "id": "bb779595",
   "metadata": {
    "scrolled": true
   },
   "outputs": [
    {
     "data": {
      "text/html": [
       "<div>\n",
       "<style scoped>\n",
       "    .dataframe tbody tr th:only-of-type {\n",
       "        vertical-align: middle;\n",
       "    }\n",
       "\n",
       "    .dataframe tbody tr th {\n",
       "        vertical-align: top;\n",
       "    }\n",
       "\n",
       "    .dataframe thead th {\n",
       "        text-align: right;\n",
       "    }\n",
       "</style>\n",
       "<table border=\"1\" class=\"dataframe\">\n",
       "  <thead>\n",
       "    <tr style=\"text-align: right;\">\n",
       "      <th>prompt_template</th>\n",
       "      <th>Echo the following input: {{input}}</th>\n",
       "      <th>Repeat the following input: {{input}}</th>\n",
       "    </tr>\n",
       "    <tr>\n",
       "      <th>user_input</th>\n",
       "      <th></th>\n",
       "      <th></th>\n",
       "    </tr>\n",
       "  </thead>\n",
       "  <tbody>\n",
       "    <tr>\n",
       "      <th>{'input': 'This is a test'}</th>\n",
       "      <td>[\\n\\nThe Los Angeles Dodgers won the World Series in 2020]</td>\n",
       "      <td>[\\n\\nThe Los Angeles Dodgers won the World Series in 2020]</td>\n",
       "    </tr>\n",
       "    <tr>\n",
       "      <th>{'input': 'This is not a test'}</th>\n",
       "      <td>[\\n\\nThe Los Angeles Dodgers won the World Series in 2020]</td>\n",
       "      <td>[\\n\\nThe Los Angeles Dodgers won the World Series in 2020]</td>\n",
       "    </tr>\n",
       "  </tbody>\n",
       "</table>\n",
       "</div>"
      ],
      "text/plain": [
       "prompt_template                                         Echo the following input: {{input}}   \n",
       "user_input                                                                                    \n",
       "{'input': 'This is a test'}      [\\n\\nThe Los Angeles Dodgers won the World Series in 2020]  \\\n",
       "{'input': 'This is not a test'}  [\\n\\nThe Los Angeles Dodgers won the World Series in 2020]   \n",
       "\n",
       "prompt_template                                       Repeat the following input: {{input}}  \n",
       "user_input                                                                                   \n",
       "{'input': 'This is a test'}      [\\n\\nThe Los Angeles Dodgers won the World Series in 2020]  \n",
       "{'input': 'This is not a test'}  [\\n\\nThe Los Angeles Dodgers won the World Series in 2020]  "
      ]
     },
     "metadata": {},
     "output_type": "display_data"
    }
   ],
   "source": [
    "harness.visualize(pivot=True)"
   ]
  },
  {
   "attachments": {},
   "cell_type": "markdown",
   "id": "89cd320e",
   "metadata": {},
   "source": [
    "## Evaluate the model response"
   ]
  },
  {
   "attachments": {},
   "cell_type": "markdown",
   "id": "c36767bd",
   "metadata": {},
   "source": [
    "To evaluate the model response, we can define an eval method that passes the input and response into another LLM to get feedback."
   ]
  },
  {
   "cell_type": "code",
   "execution_count": 3,
   "id": "8fe03c31",
   "metadata": {},
   "outputs": [],
   "source": [
    "from typing import Dict, Tuple\n",
    "\n",
    "def extract_responses(output) -> str:\n",
    "    return [choice[\"text\"] for choice in output[\"choices\"]]\n",
    "\n",
    "def check_similarity(prompt: str, results: Dict, metadata: Dict) -> float:\n",
    "    # TODO: Pass back to OpenAI API\n",
    "    pass"
   ]
  },
  {
   "attachments": {},
   "cell_type": "markdown",
   "id": "3008b09e",
   "metadata": {},
   "source": [
    "Finally, we can evaluate and visualize the results."
   ]
  },
  {
   "cell_type": "code",
   "execution_count": 9,
   "id": "4633f802",
   "metadata": {},
   "outputs": [
    {
     "name": "stderr",
     "output_type": "stream",
     "text": [
      "[2023-07-04 13:55:23,074] WARNING in Collection: No embedding_function provided, using default embedding function: DefaultEmbeddingFunction https://huggingface.co/sentence-transformers/all-MiniLM-L6-v2\n",
      "[2023-07-04 13:55:23,348] WARNING in Collection: No embedding_function provided, using default embedding function: DefaultEmbeddingFunction https://huggingface.co/sentence-transformers/all-MiniLM-L6-v2\n",
      "[2023-07-04 13:55:23,591] WARNING in Collection: No embedding_function provided, using default embedding function: DefaultEmbeddingFunction https://huggingface.co/sentence-transformers/all-MiniLM-L6-v2\n",
      "[2023-07-04 13:55:23,823] WARNING in Collection: No embedding_function provided, using default embedding function: DefaultEmbeddingFunction https://huggingface.co/sentence-transformers/all-MiniLM-L6-v2\n"
     ]
    },
    {
     "data": {
      "text/html": [
       "<div>\n",
       "<style scoped>\n",
       "    .dataframe tbody tr th:only-of-type {\n",
       "        vertical-align: middle;\n",
       "    }\n",
       "\n",
       "    .dataframe tbody tr th {\n",
       "        vertical-align: top;\n",
       "    }\n",
       "\n",
       "    .dataframe thead th {\n",
       "        text-align: right;\n",
       "    }\n",
       "</style>\n",
       "<table border=\"1\" class=\"dataframe\">\n",
       "  <thead>\n",
       "    <tr style=\"text-align: right;\">\n",
       "      <th></th>\n",
       "      <th>messages</th>\n",
       "      <th>response(s)</th>\n",
       "      <th>latency</th>\n",
       "      <th>did_echo</th>\n",
       "    </tr>\n",
       "  </thead>\n",
       "  <tbody>\n",
       "    <tr>\n",
       "      <th>0</th>\n",
       "      <td>Echo the following input: This is a test</td>\n",
       "      <td>[\\n\\nThe Los Angeles Dodgers won the World Series in 2020]</td>\n",
       "      <td>0.000004</td>\n",
       "      <td>1.893674</td>\n",
       "    </tr>\n",
       "    <tr>\n",
       "      <th>1</th>\n",
       "      <td>Echo the following input: This is not a test</td>\n",
       "      <td>[\\n\\nThe Los Angeles Dodgers won the World Series in 2020]</td>\n",
       "      <td>0.000002</td>\n",
       "      <td>1.872977</td>\n",
       "    </tr>\n",
       "    <tr>\n",
       "      <th>2</th>\n",
       "      <td>Repeat the following input: This is a test</td>\n",
       "      <td>[\\n\\nThe Los Angeles Dodgers won the World Series in 2020]</td>\n",
       "      <td>0.000002</td>\n",
       "      <td>1.893674</td>\n",
       "    </tr>\n",
       "    <tr>\n",
       "      <th>3</th>\n",
       "      <td>Repeat the following input: This is not a test</td>\n",
       "      <td>[\\n\\nThe Los Angeles Dodgers won the World Series in 2020]</td>\n",
       "      <td>0.000002</td>\n",
       "      <td>1.872977</td>\n",
       "    </tr>\n",
       "  </tbody>\n",
       "</table>\n",
       "</div>"
      ],
      "text/plain": [
       "                                         messages   \n",
       "0  Echo the following input: This is a test        \\\n",
       "1  Echo the following input: This is not a test     \n",
       "2  Repeat the following input: This is a test       \n",
       "3  Repeat the following input: This is not a test   \n",
       "\n",
       "                                                  response(s)   latency   \n",
       "0  [\\n\\nThe Los Angeles Dodgers won the World Series in 2020]  0.000004  \\\n",
       "1  [\\n\\nThe Los Angeles Dodgers won the World Series in 2020]  0.000002   \n",
       "2  [\\n\\nThe Los Angeles Dodgers won the World Series in 2020]  0.000002   \n",
       "3  [\\n\\nThe Los Angeles Dodgers won the World Series in 2020]  0.000002   \n",
       "\n",
       "   did_echo  \n",
       "0  1.893674  \n",
       "1  1.872977  \n",
       "2  1.893674  \n",
       "3  1.872977  "
      ]
     },
     "metadata": {},
     "output_type": "display_data"
    }
   ],
   "source": [
    "harness.evaluate(\"did_echo\", check_similarity, use_input_pairs=True)\n",
    "harness.visualize()"
   ]
  },
  {
   "cell_type": "code",
   "execution_count": null,
   "id": "803d65f4",
   "metadata": {},
   "outputs": [],
   "source": []
  }
 ],
 "metadata": {
  "kernelspec": {
   "display_name": "Python 3 (ipykernel)",
   "language": "python",
   "name": "python3"
  },
  "language_info": {
   "codemirror_mode": {
    "name": "ipython",
    "version": 3
   },
   "file_extension": ".py",
   "mimetype": "text/x-python",
   "name": "python",
   "nbconvert_exporter": "python",
   "pygments_lexer": "ipython3",
   "version": "3.11.4"
  }
 },
 "nbformat": 4,
 "nbformat_minor": 5
}
