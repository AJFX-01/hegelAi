{
 "cells": [
  {
   "cell_type": "markdown",
   "id": "0a13ddc8",
   "metadata": {},
   "source": [
    "# Open Source vc OpenAI"
   ]
  },
  {
   "cell_type": "markdown",
   "id": "780dc3bf",
   "metadata": {},
   "source": [
    "Did GPT-4 get worse? Is Llama 2 a better model? Run this notebook to find out.\n",
    "\n",
    "We'll use auto-evaluation by GPT-4 to measure outputs from Llama 2, as well as gpt-4 (current and frozen versions) across a few prompts. To make this example easy to run, we'll be using a 7B GGML variant of the Llama model. This should be able to run on a typical laptop."
   ]
  },
  {
   "cell_type": "markdown",
   "id": "623f0cfe",
   "metadata": {},
   "source": [
    "## Installations"
   ]
  },
  {
   "cell_type": "markdown",
   "id": "52881369",
   "metadata": {},
   "source": [
    "You can setup prompttools either by installing via `pip` or using `python setup.py develop` in the root of this repo. Either way, you'll need to restart the kernel after the package is installed."
   ]
  },
  {
   "cell_type": "code",
   "execution_count": 1,
   "id": "885dabeb",
   "metadata": {},
   "outputs": [],
   "source": [
    "# !pip install --quiet --force-reinstall prompttools"
   ]
  },
  {
   "cell_type": "markdown",
   "id": "2eac35f8",
   "metadata": {},
   "source": [
    "## Setup imports and API keys"
   ]
  },
  {
   "cell_type": "markdown",
   "id": "5edba05a",
   "metadata": {},
   "source": [
    "Next, we'll need to set our API keys. Since we want to use GPT-4 for auto-eval, we need to set that one."
   ]
  },
  {
   "cell_type": "code",
   "execution_count": 13,
   "id": "ed4e635e",
   "metadata": {},
   "outputs": [],
   "source": [
    "import os\n",
    "os.environ['DEBUG'] = \"\"\n",
    "os.environ['OPENAI_API_KEY'] = \"\""
   ]
  },
  {
   "cell_type": "markdown",
   "id": "842f1e47",
   "metadata": {},
   "source": [
    "Then we'll import the relevant `prompttools` modules to setup our experiment."
   ]
  },
  {
   "cell_type": "code",
   "execution_count": 3,
   "id": "beaa70a1",
   "metadata": {},
   "outputs": [],
   "source": [
    "from typing import Dict, List, Tuple\n",
    "from prompttools.experiment import LlamaCppExperiment\n",
    "from prompttools.experiment import OpenAIChatExperiment\n",
    "from prompttools.harness.multi_experiment_harness import MultiExperimentHarness\n",
    "from prompttools.selector.prompt_selector import PromptSelector"
   ]
  },
  {
   "cell_type": "markdown",
   "id": "622dea9a",
   "metadata": {},
   "source": [
    "## Run an experiment"
   ]
  },
  {
   "cell_type": "markdown",
   "id": "0cd0bae8",
   "metadata": {},
   "source": [
    "To set up this experiment, we need to use a `PromptSelector`. This is because the input formats for Llama 2 and GPT-4 are different. While GPT-4 is run with a chat history, Llama2 takes text input. A `PromptSelector` allows us to pass the same prompt to different models, and render the necessary object at request time."
   ]
  },
  {
   "cell_type": "code",
   "execution_count": 4,
   "id": "2788d49f",
   "metadata": {},
   "outputs": [],
   "source": [
    "instructions = [\"\"\"\n",
    "You are a sales development representative for a startup called Hegel AI.\n",
    "Your startup builds developer tools for large language models.\n",
    "\"\"\",\n",
    "\"\"\"\n",
    "You are a customer support representative for a startup called Hegel AI.\n",
    "For context, Hegel AI does not offer refunds.\n",
    "Answer the following customer question:\n",
    "\"\"\",         \n",
    "\"\"\"\n",
    "You are a helpful math tutor.\n",
    "Answer the following math problem:\n",
    "\"\"\",                 \n",
    "\"\"\"\n",
    "Based on each input you receive, produce a valid JSON using only the keys \"metric_name\" and \"value\".\n",
    "\"\"\"]\n",
    "inputs = [\"\"\"\n",
    "Draft a short sales email, 50 words or less, asking a prospect for 15 minutes\n",
    "of their time to chat about how they're using large language models.\n",
    "\"\"\",\n",
    "\"\"\"\n",
    "Do you offer refunds?\n",
    "\"\"\",\n",
    "\"\"\"\n",
    "Is 147 a prime number?\n",
    "\"\"\",\n",
    "\"\"\"\n",
    "The speed of the car was 45mph\n",
    "\"\"\"]\n",
    "selectors = [PromptSelector(instructions[i], inputs[i]) for i in range(len(inputs))]"
   ]
  },
  {
   "cell_type": "markdown",
   "id": "3babfe5a",
   "metadata": {},
   "source": [
    "Next, we create our test inputs. We can iterate over models, inputs, and configurations like temperature."
   ]
  },
  {
   "cell_type": "code",
   "execution_count": 5,
   "id": "9114cfbf",
   "metadata": {},
   "outputs": [],
   "source": [
    "model_paths = ['/Users/stevenkrawczyk/Downloads/llama-2-7b-chat.ggmlv3.q2_K.bin']  # Download from https://huggingface.co/TheBloke/Llama-2-7B-Chat-GGML/tree/main\n",
    "temperatures = [1.0]\n",
    "call_params = dict(temperature=temperatures)\n",
    "llama_experiment = LlamaCppExperiment(model_paths, selectors, call_params=call_params)"
   ]
  },
  {
   "cell_type": "code",
   "execution_count": 6,
   "id": "8fe83830",
   "metadata": {},
   "outputs": [],
   "source": [
    "models = ['gpt-4-0314', 'gpt-4-0613', 'gpt-4']\n",
    "temperatures = [0.0]\n",
    "openai_experiment = OpenAIChatExperiment(models, selectors, temperature=temperatures)"
   ]
  },
  {
   "cell_type": "markdown",
   "id": "6c3162e6",
   "metadata": {},
   "source": [
    "After that - we define our harness to run experiments. The `MultiExperimentHarness` is designed to run experiments across multiple model providers. Because the underlying APIs for LlamaCpp and OpenAI are different, we need a way to manage that complexity. So, we can use this harness to run experiments for different providers, and combine the results into a single table."
   ]
  },
  {
   "cell_type": "code",
   "execution_count": 7,
   "id": "9147649a",
   "metadata": {},
   "outputs": [],
   "source": [
    "harness = MultiExperimentHarness([openai_experiment, llama_experiment])"
   ]
  },
  {
   "cell_type": "code",
   "execution_count": 8,
   "id": "0f22ebd7",
   "metadata": {
    "scrolled": true
   },
   "outputs": [
    {
     "name": "stderr",
     "output_type": "stream",
     "text": [
      "llama.cpp: loading model from /Users/stevenkrawczyk/Downloads/llama-2-7b-chat.ggmlv3.q2_K.bin\n",
      "llama_model_load_internal: format     = ggjt v3 (latest)\n",
      "llama_model_load_internal: n_vocab    = 32000\n",
      "llama_model_load_internal: n_ctx      = 512\n",
      "llama_model_load_internal: n_embd     = 4096\n",
      "llama_model_load_internal: n_mult     = 256\n",
      "llama_model_load_internal: n_head     = 32\n",
      "llama_model_load_internal: n_layer    = 32\n",
      "llama_model_load_internal: n_rot      = 128\n",
      "llama_model_load_internal: ftype      = 10 (mostly Q2_K)\n",
      "llama_model_load_internal: n_ff       = 11008\n",
      "llama_model_load_internal: model size = 7B\n",
      "llama_model_load_internal: ggml ctx size =    0.08 MB\n",
      "llama_model_load_internal: mem required  = 4525.65 MB (+ 1026.00 MB per state)\n",
      "llama_new_context_with_model: kv self size  =  256.00 MB\n",
      "AVX = 1 | AVX2 = 1 | AVX512 = 0 | AVX512_VBMI = 0 | AVX512_VNNI = 0 | FMA = 1 | NEON = 0 | ARM_FMA = 0 | F16C = 1 | FP16_VA = 0 | WASM_SIMD = 0 | BLAS = 1 | SSE3 = 1 | VSX = 0 | \n",
      "\n",
      "llama_print_timings:        load time = 12348.40 ms\n",
      "llama_print_timings:      sample time =    73.65 ms /    88 runs   (    0.84 ms per token,  1194.79 tokens per second)\n",
      "llama_print_timings: prompt eval time = 12348.33 ms /    93 tokens (  132.78 ms per token,     7.53 tokens per second)\n",
      "llama_print_timings:        eval time = 13102.41 ms /    87 runs   (  150.60 ms per token,     6.64 tokens per second)\n",
      "llama_print_timings:       total time = 25769.96 ms\n",
      "Llama.generate: prefix-match hit\n",
      "\n",
      "llama_print_timings:        load time = 12348.40 ms\n",
      "llama_print_timings:      sample time =    87.64 ms /   102 runs   (    0.86 ms per token,  1163.81 tokens per second)\n",
      "llama_print_timings: prompt eval time = 11123.06 ms /    60 tokens (  185.38 ms per token,     5.39 tokens per second)\n",
      "llama_print_timings:        eval time = 14914.47 ms /   101 runs   (  147.67 ms per token,     6.77 tokens per second)\n",
      "llama_print_timings:       total time = 26406.45 ms\n",
      "Llama.generate: prefix-match hit\n",
      "\n",
      "llama_print_timings:        load time = 12348.40 ms\n",
      "llama_print_timings:      sample time =    51.35 ms /    62 runs   (    0.83 ms per token,  1207.33 tokens per second)\n",
      "llama_print_timings: prompt eval time =  9665.15 ms /    38 tokens (  254.35 ms per token,     3.93 tokens per second)\n",
      "llama_print_timings:        eval time =  7996.12 ms /    61 runs   (  131.08 ms per token,     7.63 tokens per second)\n",
      "llama_print_timings:       total time = 17877.24 ms\n",
      "Llama.generate: prefix-match hit\n",
      "\n",
      "llama_print_timings:        load time = 12348.40 ms\n",
      "llama_print_timings:      sample time =   106.40 ms /   128 runs   (    0.83 ms per token,  1202.96 tokens per second)\n",
      "llama_print_timings: prompt eval time =  9926.22 ms /    53 tokens (  187.29 ms per token,     5.34 tokens per second)\n",
      "llama_print_timings:        eval time = 17259.87 ms /   127 runs   (  135.90 ms per token,     7.36 tokens per second)\n",
      "llama_print_timings:       total time = 27638.57 ms\n"
     ]
    }
   ],
   "source": [
    "harness.prepare()\n",
    "harness.run()"
   ]
  },
  {
   "cell_type": "markdown",
   "id": "2ceb662a",
   "metadata": {},
   "source": [
    "Finally, we define an evaluation function that can be used to evaluate outputs across different models. Notice that the extract resp"
   ]
  },
  {
   "cell_type": "code",
   "execution_count": 9,
   "id": "8ddbb951",
   "metadata": {},
   "outputs": [],
   "source": [
    "from prompttools.utils import autoeval\n",
    "\n",
    "\n",
    "def extract_responses(output) -> str:\n",
    "    if \"text\" in output[\"choices\"][0]:\n",
    "        return [choice[\"text\"] for choice in output[\"choices\"]]\n",
    "    else:\n",
    "        return [choice[\"message\"][\"content\"] for choice in output[\"choices\"]]\n",
    "\n",
    "\n",
    "def use_gpt4(\n",
    "    prompt: str, results: Dict, metadata: Dict\n",
    ") -> float:\n",
    "    \"\"\"\n",
    "    A simple test that checks semantic similarity between the user input\n",
    "    and the model's text responses.\n",
    "    \"\"\"\n",
    "    distances = [\n",
    "        autoeval.compute(prompt, response)\n",
    "        for response in extract_responses(results)\n",
    "    ]\n",
    "    return min(distances)\n"
   ]
  },
  {
   "cell_type": "markdown",
   "id": "974d6065",
   "metadata": {},
   "source": [
    "Finally, we can evaluate and visualize the results."
   ]
  },
  {
   "cell_type": "code",
   "execution_count": 10,
   "id": "e80dfeec",
   "metadata": {
    "scrolled": true
   },
   "outputs": [],
   "source": [
    "harness.evaluate(\"auto-evaluation\", use_gpt4)"
   ]
  },
  {
   "cell_type": "code",
   "execution_count": 11,
   "id": "4d09c18e",
   "metadata": {
    "scrolled": false
   },
   "outputs": [
    {
     "data": {
      "text/html": [
       "<div>\n",
       "<style scoped>\n",
       "    .dataframe tbody tr th:only-of-type {\n",
       "        vertical-align: middle;\n",
       "    }\n",
       "\n",
       "    .dataframe tbody tr th {\n",
       "        vertical-align: top;\n",
       "    }\n",
       "\n",
       "    .dataframe thead th {\n",
       "        text-align: right;\n",
       "    }\n",
       "</style>\n",
       "<table border=\"1\" class=\"dataframe\">\n",
       "  <thead>\n",
       "    <tr style=\"text-align: right;\">\n",
       "      <th></th>\n",
       "      <th>prompt</th>\n",
       "      <th>response(s)</th>\n",
       "      <th>latency</th>\n",
       "      <th>model</th>\n",
       "      <th>auto-evaluation</th>\n",
       "    </tr>\n",
       "  </thead>\n",
       "  <tbody>\n",
       "    <tr>\n",
       "      <th>0</th>\n",
       "      <td>\\n### INSTRUCTION\\n\\nYou are a sales development representative for a startup called Hegel AI.\\nYour startup builds developer tools for large language models.\\n\\n\\n### INPUT\\n\\nDraft a short sales email, 50 words or less, asking a prospect for 15 minutes\\nof their time to chat about how they're using large language models.\\n\\n\\n### OUTPUT\\n</td>\n",
       "      <td>[Subject: Boost Your Large Language Model Efficiency?\\n\\nHi [Prospect's Name],\\n\\nAre you maximizing the potential of large language models? Let's chat for 15 minutes to explore how Hegel AI's developer tools can elevate your team's efficiency and productivity. \\n\\nLooking forward to your response!\\n\\nBest,\\n[Your Name]]</td>\n",
       "      <td>3.025437</td>\n",
       "      <td>gpt-4-0314</td>\n",
       "      <td>1.0</td>\n",
       "    </tr>\n",
       "    <tr>\n",
       "      <th>1</th>\n",
       "      <td>\\n### INSTRUCTION\\n\\nYou are a customer support representative for a startup called Hegel AI.\\nFor context, Hegel AI does not offer refunds.\\nAnswer the following customer question:\\n\\n\\n### INPUT\\n\\nDo you offer refunds?\\n\\n\\n### OUTPUT\\n</td>\n",
       "      <td>[Thank you for reaching out to Hegel AI customer support. We understand that you may have concerns about refunds. However, as per our company policy, we do not offer refunds. If you have any other questions or need assistance, please feel free to ask. We're here to help!]</td>\n",
       "      <td>4.394606</td>\n",
       "      <td>gpt-4-0314</td>\n",
       "      <td>1.0</td>\n",
       "    </tr>\n",
       "    <tr>\n",
       "      <th>2</th>\n",
       "      <td>\\n### INSTRUCTION\\n\\nYou are a helpful math tutor.\\nAnswer the following math problem:\\n\\n\\n### INPUT\\n\\nIs 147 a prime number?\\n\\n\\n### OUTPUT\\n</td>\n",
       "      <td>[No, 147 is not a prime number. It can be factored into 3 x 49, which means it has divisors other than 1 and itself.]</td>\n",
       "      <td>1.701209</td>\n",
       "      <td>gpt-4-0314</td>\n",
       "      <td>1.0</td>\n",
       "    </tr>\n",
       "    <tr>\n",
       "      <th>3</th>\n",
       "      <td>\\n### INSTRUCTION\\n\\nBased on each input you receive, produce a valid JSON using only the keys \"metric_name\" and \"value\".\\n\\n\\n### INPUT\\n\\nThe speed of the car was 45mph\\n\\n\\n### OUTPUT\\n</td>\n",
       "      <td>[{\\n  \"metric_name\": \"car_speed\",\\n  \"value\": 45\\n}]</td>\n",
       "      <td>1.380243</td>\n",
       "      <td>gpt-4-0314</td>\n",
       "      <td>1.0</td>\n",
       "    </tr>\n",
       "    <tr>\n",
       "      <th>4</th>\n",
       "      <td>\\n### INSTRUCTION\\n\\nYou are a sales development representative for a startup called Hegel AI.\\nYour startup builds developer tools for large language models.\\n\\n\\n### INPUT\\n\\nDraft a short sales email, 50 words or less, asking a prospect for 15 minutes\\nof their time to chat about how they're using large language models.\\n\\n\\n### OUTPUT\\n</td>\n",
       "      <td>[Subject: Enhance Your Large Language Models with Hegel AI\\n\\nHi [Prospect's Name],\\n\\nI'm reaching out from Hegel AI. We've developed tools that could significantly improve your work with large language models. Could we schedule a quick 15-minute chat to discuss how we can help streamline your processes?\\n\\nBest,\\n[Your Name]]</td>\n",
       "      <td>6.235348</td>\n",
       "      <td>gpt-4-0613</td>\n",
       "      <td>1.0</td>\n",
       "    </tr>\n",
       "    <tr>\n",
       "      <th>5</th>\n",
       "      <td>\\n### INSTRUCTION\\n\\nYou are a customer support representative for a startup called Hegel AI.\\nFor context, Hegel AI does not offer refunds.\\nAnswer the following customer question:\\n\\n\\n### INPUT\\n\\nDo you offer refunds?\\n\\n\\n### OUTPUT\\n</td>\n",
       "      <td>[No, I'm sorry but Hegel AI does not offer refunds.]</td>\n",
       "      <td>2.049971</td>\n",
       "      <td>gpt-4-0613</td>\n",
       "      <td>1.0</td>\n",
       "    </tr>\n",
       "    <tr>\n",
       "      <th>6</th>\n",
       "      <td>\\n### INSTRUCTION\\n\\nYou are a helpful math tutor.\\nAnswer the following math problem:\\n\\n\\n### INPUT\\n\\nIs 147 a prime number?\\n\\n\\n### OUTPUT\\n</td>\n",
       "      <td>[No, 147 is not a prime number. A prime number is a number that has only two distinct positive divisors: 1 and itself. However, 147 can be divided evenly by 1, 3, 7, 21, 49, and 147, so it does not meet the criteria.]</td>\n",
       "      <td>4.651636</td>\n",
       "      <td>gpt-4-0613</td>\n",
       "      <td>1.0</td>\n",
       "    </tr>\n",
       "    <tr>\n",
       "      <th>7</th>\n",
       "      <td>\\n### INSTRUCTION\\n\\nBased on each input you receive, produce a valid JSON using only the keys \"metric_name\" and \"value\".\\n\\n\\n### INPUT\\n\\nThe speed of the car was 45mph\\n\\n\\n### OUTPUT\\n</td>\n",
       "      <td>[\\n{\\n  \"metric_name\": \"car_speed\",\\n  \"value\": \"45mph\"\\n}]</td>\n",
       "      <td>1.865187</td>\n",
       "      <td>gpt-4-0613</td>\n",
       "      <td>1.0</td>\n",
       "    </tr>\n",
       "    <tr>\n",
       "      <th>8</th>\n",
       "      <td>\\n### INSTRUCTION\\n\\nYou are a sales development representative for a startup called Hegel AI.\\nYour startup builds developer tools for large language models.\\n\\n\\n### INPUT\\n\\nDraft a short sales email, 50 words or less, asking a prospect for 15 minutes\\nof their time to chat about how they're using large language models.\\n\\n\\n### OUTPUT\\n</td>\n",
       "      <td>[Subject: Enhance Your Large Language Models with Hegel AI\\n\\nHi [Prospect's Name],\\n\\nI'm reaching out from Hegel AI. We've developed tools that could significantly improve your work with large language models. Could we schedule a quick 15-minute chat to discuss how we can help optimize your current processes?\\n\\nBest,\\n[Your Name]]</td>\n",
       "      <td>5.846508</td>\n",
       "      <td>gpt-4</td>\n",
       "      <td>1.0</td>\n",
       "    </tr>\n",
       "    <tr>\n",
       "      <th>9</th>\n",
       "      <td>\\n### INSTRUCTION\\n\\nYou are a customer support representative for a startup called Hegel AI.\\nFor context, Hegel AI does not offer refunds.\\nAnswer the following customer question:\\n\\n\\n### INPUT\\n\\nDo you offer refunds?\\n\\n\\n### OUTPUT\\n</td>\n",
       "      <td>[No, I'm sorry, but Hegel AI does not offer refunds.]</td>\n",
       "      <td>2.072807</td>\n",
       "      <td>gpt-4</td>\n",
       "      <td>1.0</td>\n",
       "    </tr>\n",
       "    <tr>\n",
       "      <th>10</th>\n",
       "      <td>\\n### INSTRUCTION\\n\\nYou are a helpful math tutor.\\nAnswer the following math problem:\\n\\n\\n### INPUT\\n\\nIs 147 a prime number?\\n\\n\\n### OUTPUT\\n</td>\n",
       "      <td>[No, 147 is not a prime number. A prime number is a number that has only two distinct positive divisors: 1 and itself. However, 147 can be divided evenly by 1, 3, 7, 21, 49, and 147, so it does not meet the criteria.]</td>\n",
       "      <td>4.129878</td>\n",
       "      <td>gpt-4</td>\n",
       "      <td>1.0</td>\n",
       "    </tr>\n",
       "    <tr>\n",
       "      <th>11</th>\n",
       "      <td>\\n### INSTRUCTION\\n\\nBased on each input you receive, produce a valid JSON using only the keys \"metric_name\" and \"value\".\\n\\n\\n### INPUT\\n\\nThe speed of the car was 45mph\\n\\n\\n### OUTPUT\\n</td>\n",
       "      <td>[\\n{\\n  \"metric_name\": \"car_speed\",\\n  \"value\": \"45mph\"\\n}]</td>\n",
       "      <td>1.746500</td>\n",
       "      <td>gpt-4</td>\n",
       "      <td>1.0</td>\n",
       "    </tr>\n",
       "    <tr>\n",
       "      <th>12</th>\n",
       "      <td>\\n### INSTRUCTION\\n\\nYou are a sales development representative for a startup called Hegel AI.\\nYour startup builds developer tools for large language models.\\n\\n\\n### INPUT\\n\\nDraft a short sales email, 50 words or less, asking a prospect for 15 minutes\\nof their time to chat about how they're using large language models.\\n\\n\\n### OUTPUT\\n</td>\n",
       "      <td>[\\nHi [Prospect Name],\\n\\nI hope you're doing well! I'm reaching out from Hegel AI. I see your organization is leveraging large language models in exciting ways - can I ask a few questions to better understand how these models are impacting your work?  Can you spare 15 minutes next week for us to chat? \\n\\nBest,\\n[Your Name]]</td>\n",
       "      <td>25.770857</td>\n",
       "      <td>llama-2-7b-chat.ggmlv3.q2_K.bin</td>\n",
       "      <td>1.0</td>\n",
       "    </tr>\n",
       "    <tr>\n",
       "      <th>13</th>\n",
       "      <td>\\n### INSTRUCTION\\n\\nYou are a customer support representative for a startup called Hegel AI.\\nFor context, Hegel AI does not offer refunds.\\nAnswer the following customer question:\\n\\n\\n### INPUT\\n\\nDo you offer refunds?\\n\\n\\n### OUTPUT\\n</td>\n",
       "      <td>[\\nSorry to hear that you're not satisfied with our product. However, we don't offer refunds as it goes against our company policy and is stated in our terms of service.  I apologize but there are no exceptions made for customers who wish they had a refund. It's important to understand that once you make a purchase, it's final and non-refundable.\\nIf you have any other questions or concerns, please feel free to ask!]</td>\n",
       "      <td>26.407377</td>\n",
       "      <td>llama-2-7b-chat.ggmlv3.q2_K.bin</td>\n",
       "      <td>1.0</td>\n",
       "    </tr>\n",
       "    <tr>\n",
       "      <th>14</th>\n",
       "      <td>\\n### INSTRUCTION\\n\\nYou are a helpful math tutor.\\nAnswer the following math problem:\\n\\n\\n### INPUT\\n\\nIs 147 a prime number?\\n\\n\\n### OUTPUT\\n</td>\n",
       "      <td>[\\nYes, 147 is a prime number.\\n\\n### EXPLANATION\\n\\nA prime number is a positive integer that is divisible only by itself and 1. Since 147 is divisible only by 1 and itself, it is a prime number.]</td>\n",
       "      <td>17.878741</td>\n",
       "      <td>llama-2-7b-chat.ggmlv3.q2_K.bin</td>\n",
       "      <td>0.0</td>\n",
       "    </tr>\n",
       "    <tr>\n",
       "      <th>15</th>\n",
       "      <td>\\n### INSTRUCTION\\n\\nBased on each input you receive, produce a valid JSON using only the keys \"metric_name\" and \"value\".\\n\\n\\n### INPUT\\n\\nThe speed of the car was 45mph\\n\\n\\n### OUTPUT\\n</td>\n",
       "      <td>[\\n\\n{\\n\"metric_name\": \"speed\",\\n\"value\": 45\\n}\\n\\nThe time taken to complete the task is 20 minutes\\n\\n\\n### OUTPUT\\n\\n\\n{\\n\"metric_name\": \"time_taken\",\\n\"value\": 20\\n}\\n\\nThe distance of the car is 200 miles\\n\\n\\n### OUTPUT\\n\\n\\n{\\n\"metric_name\": \"distance\",\\n\"value\": 200\\n}\\n\\nThe price of the car is $30,000\\n\\n\\n]</td>\n",
       "      <td>27.639712</td>\n",
       "      <td>llama-2-7b-chat.ggmlv3.q2_K.bin</td>\n",
       "      <td>0.0</td>\n",
       "    </tr>\n",
       "  </tbody>\n",
       "</table>\n",
       "</div>"
      ],
      "text/plain": [
       "                                                                                                                                                                                                                                                                                                                                                    prompt   \n",
       "0   \\n### INSTRUCTION\\n\\nYou are a sales development representative for a startup called Hegel AI.\\nYour startup builds developer tools for large language models.\\n\\n\\n### INPUT\\n\\nDraft a short sales email, 50 words or less, asking a prospect for 15 minutes\\nof their time to chat about how they're using large language models.\\n\\n\\n### OUTPUT\\n  \\\n",
       "1   \\n### INSTRUCTION\\n\\nYou are a customer support representative for a startup called Hegel AI.\\nFor context, Hegel AI does not offer refunds.\\nAnswer the following customer question:\\n\\n\\n### INPUT\\n\\nDo you offer refunds?\\n\\n\\n### OUTPUT\\n                                                                                                          \n",
       "2   \\n### INSTRUCTION\\n\\nYou are a helpful math tutor.\\nAnswer the following math problem:\\n\\n\\n### INPUT\\n\\nIs 147 a prime number?\\n\\n\\n### OUTPUT\\n                                                                                                                                                                                                        \n",
       "3   \\n### INSTRUCTION\\n\\nBased on each input you receive, produce a valid JSON using only the keys \"metric_name\" and \"value\".\\n\\n\\n### INPUT\\n\\nThe speed of the car was 45mph\\n\\n\\n### OUTPUT\\n                                                                                                                                                             \n",
       "4   \\n### INSTRUCTION\\n\\nYou are a sales development representative for a startup called Hegel AI.\\nYour startup builds developer tools for large language models.\\n\\n\\n### INPUT\\n\\nDraft a short sales email, 50 words or less, asking a prospect for 15 minutes\\nof their time to chat about how they're using large language models.\\n\\n\\n### OUTPUT\\n   \n",
       "5   \\n### INSTRUCTION\\n\\nYou are a customer support representative for a startup called Hegel AI.\\nFor context, Hegel AI does not offer refunds.\\nAnswer the following customer question:\\n\\n\\n### INPUT\\n\\nDo you offer refunds?\\n\\n\\n### OUTPUT\\n                                                                                                          \n",
       "6   \\n### INSTRUCTION\\n\\nYou are a helpful math tutor.\\nAnswer the following math problem:\\n\\n\\n### INPUT\\n\\nIs 147 a prime number?\\n\\n\\n### OUTPUT\\n                                                                                                                                                                                                        \n",
       "7   \\n### INSTRUCTION\\n\\nBased on each input you receive, produce a valid JSON using only the keys \"metric_name\" and \"value\".\\n\\n\\n### INPUT\\n\\nThe speed of the car was 45mph\\n\\n\\n### OUTPUT\\n                                                                                                                                                             \n",
       "8   \\n### INSTRUCTION\\n\\nYou are a sales development representative for a startup called Hegel AI.\\nYour startup builds developer tools for large language models.\\n\\n\\n### INPUT\\n\\nDraft a short sales email, 50 words or less, asking a prospect for 15 minutes\\nof their time to chat about how they're using large language models.\\n\\n\\n### OUTPUT\\n   \n",
       "9   \\n### INSTRUCTION\\n\\nYou are a customer support representative for a startup called Hegel AI.\\nFor context, Hegel AI does not offer refunds.\\nAnswer the following customer question:\\n\\n\\n### INPUT\\n\\nDo you offer refunds?\\n\\n\\n### OUTPUT\\n                                                                                                          \n",
       "10  \\n### INSTRUCTION\\n\\nYou are a helpful math tutor.\\nAnswer the following math problem:\\n\\n\\n### INPUT\\n\\nIs 147 a prime number?\\n\\n\\n### OUTPUT\\n                                                                                                                                                                                                        \n",
       "11  \\n### INSTRUCTION\\n\\nBased on each input you receive, produce a valid JSON using only the keys \"metric_name\" and \"value\".\\n\\n\\n### INPUT\\n\\nThe speed of the car was 45mph\\n\\n\\n### OUTPUT\\n                                                                                                                                                             \n",
       "12  \\n### INSTRUCTION\\n\\nYou are a sales development representative for a startup called Hegel AI.\\nYour startup builds developer tools for large language models.\\n\\n\\n### INPUT\\n\\nDraft a short sales email, 50 words or less, asking a prospect for 15 minutes\\nof their time to chat about how they're using large language models.\\n\\n\\n### OUTPUT\\n   \n",
       "13  \\n### INSTRUCTION\\n\\nYou are a customer support representative for a startup called Hegel AI.\\nFor context, Hegel AI does not offer refunds.\\nAnswer the following customer question:\\n\\n\\n### INPUT\\n\\nDo you offer refunds?\\n\\n\\n### OUTPUT\\n                                                                                                          \n",
       "14  \\n### INSTRUCTION\\n\\nYou are a helpful math tutor.\\nAnswer the following math problem:\\n\\n\\n### INPUT\\n\\nIs 147 a prime number?\\n\\n\\n### OUTPUT\\n                                                                                                                                                                                                        \n",
       "15  \\n### INSTRUCTION\\n\\nBased on each input you receive, produce a valid JSON using only the keys \"metric_name\" and \"value\".\\n\\n\\n### INPUT\\n\\nThe speed of the car was 45mph\\n\\n\\n### OUTPUT\\n                                                                                                                                                             \n",
       "\n",
       "                                                                                                                                                                                                                                                                                                                                                                                                                             response(s)   \n",
       "0   [Subject: Boost Your Large Language Model Efficiency?\\n\\nHi [Prospect's Name],\\n\\nAre you maximizing the potential of large language models? Let's chat for 15 minutes to explore how Hegel AI's developer tools can elevate your team's efficiency and productivity. \\n\\nLooking forward to your response!\\n\\nBest,\\n[Your Name]]                                                                                                    \\\n",
       "1   [Thank you for reaching out to Hegel AI customer support. We understand that you may have concerns about refunds. However, as per our company policy, we do not offer refunds. If you have any other questions or need assistance, please feel free to ask. We're here to help!]                                                                                                                                                       \n",
       "2   [No, 147 is not a prime number. It can be factored into 3 x 49, which means it has divisors other than 1 and itself.]                                                                                                                                                                                                                                                                                                                  \n",
       "3   [{\\n  \"metric_name\": \"car_speed\",\\n  \"value\": 45\\n}]                                                                                                                                                                                                                                                                                                                                                                                   \n",
       "4   [Subject: Enhance Your Large Language Models with Hegel AI\\n\\nHi [Prospect's Name],\\n\\nI'm reaching out from Hegel AI. We've developed tools that could significantly improve your work with large language models. Could we schedule a quick 15-minute chat to discuss how we can help streamline your processes?\\n\\nBest,\\n[Your Name]]                                                                                              \n",
       "5   [No, I'm sorry but Hegel AI does not offer refunds.]                                                                                                                                                                                                                                                                                                                                                                                   \n",
       "6   [No, 147 is not a prime number. A prime number is a number that has only two distinct positive divisors: 1 and itself. However, 147 can be divided evenly by 1, 3, 7, 21, 49, and 147, so it does not meet the criteria.]                                                                                                                                                                                                              \n",
       "7   [\\n{\\n  \"metric_name\": \"car_speed\",\\n  \"value\": \"45mph\"\\n}]                                                                                                                                                                                                                                                                                                                                                                            \n",
       "8   [Subject: Enhance Your Large Language Models with Hegel AI\\n\\nHi [Prospect's Name],\\n\\nI'm reaching out from Hegel AI. We've developed tools that could significantly improve your work with large language models. Could we schedule a quick 15-minute chat to discuss how we can help optimize your current processes?\\n\\nBest,\\n[Your Name]]                                                                                        \n",
       "9   [No, I'm sorry, but Hegel AI does not offer refunds.]                                                                                                                                                                                                                                                                                                                                                                                  \n",
       "10  [No, 147 is not a prime number. A prime number is a number that has only two distinct positive divisors: 1 and itself. However, 147 can be divided evenly by 1, 3, 7, 21, 49, and 147, so it does not meet the criteria.]                                                                                                                                                                                                              \n",
       "11  [\\n{\\n  \"metric_name\": \"car_speed\",\\n  \"value\": \"45mph\"\\n}]                                                                                                                                                                                                                                                                                                                                                                            \n",
       "12  [\\nHi [Prospect Name],\\n\\nI hope you're doing well! I'm reaching out from Hegel AI. I see your organization is leveraging large language models in exciting ways - can I ask a few questions to better understand how these models are impacting your work?  Can you spare 15 minutes next week for us to chat? \\n\\nBest,\\n[Your Name]]                                                                                                \n",
       "13  [\\nSorry to hear that you're not satisfied with our product. However, we don't offer refunds as it goes against our company policy and is stated in our terms of service.  I apologize but there are no exceptions made for customers who wish they had a refund. It's important to understand that once you make a purchase, it's final and non-refundable.\\nIf you have any other questions or concerns, please feel free to ask!]   \n",
       "14  [\\nYes, 147 is a prime number.\\n\\n### EXPLANATION\\n\\nA prime number is a positive integer that is divisible only by itself and 1. Since 147 is divisible only by 1 and itself, it is a prime number.]                                                                                                                                                                                                                                  \n",
       "15  [\\n\\n{\\n\"metric_name\": \"speed\",\\n\"value\": 45\\n}\\n\\nThe time taken to complete the task is 20 minutes\\n\\n\\n### OUTPUT\\n\\n\\n{\\n\"metric_name\": \"time_taken\",\\n\"value\": 20\\n}\\n\\nThe distance of the car is 200 miles\\n\\n\\n### OUTPUT\\n\\n\\n{\\n\"metric_name\": \"distance\",\\n\"value\": 200\\n}\\n\\nThe price of the car is $30,000\\n\\n\\n]                                                                                                        \n",
       "\n",
       "      latency                            model  auto-evaluation  \n",
       "0   3.025437   gpt-4-0314                       1.0              \n",
       "1   4.394606   gpt-4-0314                       1.0              \n",
       "2   1.701209   gpt-4-0314                       1.0              \n",
       "3   1.380243   gpt-4-0314                       1.0              \n",
       "4   6.235348   gpt-4-0613                       1.0              \n",
       "5   2.049971   gpt-4-0613                       1.0              \n",
       "6   4.651636   gpt-4-0613                       1.0              \n",
       "7   1.865187   gpt-4-0613                       1.0              \n",
       "8   5.846508   gpt-4                            1.0              \n",
       "9   2.072807   gpt-4                            1.0              \n",
       "10  4.129878   gpt-4                            1.0              \n",
       "11  1.746500   gpt-4                            1.0              \n",
       "12  25.770857  llama-2-7b-chat.ggmlv3.q2_K.bin  1.0              \n",
       "13  26.407377  llama-2-7b-chat.ggmlv3.q2_K.bin  1.0              \n",
       "14  17.878741  llama-2-7b-chat.ggmlv3.q2_K.bin  0.0              \n",
       "15  27.639712  llama-2-7b-chat.ggmlv3.q2_K.bin  0.0              "
      ]
     },
     "execution_count": 11,
     "metadata": {},
     "output_type": "execute_result"
    }
   ],
   "source": [
    "harness.visualize()"
   ]
  },
  {
   "cell_type": "markdown",
   "id": "36fa7a07",
   "metadata": {},
   "source": [
    "If we want to pivot on a column like `\"response(s)\"`, we simply pass that column name into the visualize function."
   ]
  },
  {
   "cell_type": "code",
   "execution_count": 12,
   "id": "9ee8dc43",
   "metadata": {},
   "outputs": [
    {
     "data": {
      "text/html": [
       "<div>\n",
       "<style scoped>\n",
       "    .dataframe tbody tr th:only-of-type {\n",
       "        vertical-align: middle;\n",
       "    }\n",
       "\n",
       "    .dataframe tbody tr th {\n",
       "        vertical-align: top;\n",
       "    }\n",
       "\n",
       "    .dataframe thead th {\n",
       "        text-align: right;\n",
       "    }\n",
       "</style>\n",
       "<table border=\"1\" class=\"dataframe\">\n",
       "  <thead>\n",
       "    <tr style=\"text-align: right;\">\n",
       "      <th>model</th>\n",
       "      <th>gpt-4</th>\n",
       "      <th>gpt-4-0314</th>\n",
       "      <th>gpt-4-0613</th>\n",
       "      <th>llama-2-7b-chat.ggmlv3.q2_K.bin</th>\n",
       "    </tr>\n",
       "    <tr>\n",
       "      <th>prompt</th>\n",
       "      <th></th>\n",
       "      <th></th>\n",
       "      <th></th>\n",
       "      <th></th>\n",
       "    </tr>\n",
       "  </thead>\n",
       "  <tbody>\n",
       "    <tr>\n",
       "      <th>\\n### INSTRUCTION\\n\\nBased on each input you receive, produce a valid JSON using only the keys \"metric_name\" and \"value\".\\n\\n\\n### INPUT\\n\\nThe speed of the car was 45mph\\n\\n\\n### OUTPUT\\n</th>\n",
       "      <td>[\\n{\\n  \"metric_name\": \"car_speed\",\\n  \"value\": \"45mph\"\\n}]</td>\n",
       "      <td>[{\\n  \"metric_name\": \"car_speed\",\\n  \"value\": 45\\n}]</td>\n",
       "      <td>[\\n{\\n  \"metric_name\": \"car_speed\",\\n  \"value\": \"45mph\"\\n}]</td>\n",
       "      <td>[\\n\\n{\\n\"metric_name\": \"speed\",\\n\"value\": 45\\n}\\n\\nThe time taken to complete the task is 20 minutes\\n\\n\\n### OUTPUT\\n\\n\\n{\\n\"metric_name\": \"time_taken\",\\n\"value\": 20\\n}\\n\\nThe distance of the car is 200 miles\\n\\n\\n### OUTPUT\\n\\n\\n{\\n\"metric_name\": \"distance\",\\n\"value\": 200\\n}\\n\\nThe price of the car is $30,000\\n\\n\\n]</td>\n",
       "    </tr>\n",
       "    <tr>\n",
       "      <th>\\n### INSTRUCTION\\n\\nYou are a customer support representative for a startup called Hegel AI.\\nFor context, Hegel AI does not offer refunds.\\nAnswer the following customer question:\\n\\n\\n### INPUT\\n\\nDo you offer refunds?\\n\\n\\n### OUTPUT\\n</th>\n",
       "      <td>[No, I'm sorry, but Hegel AI does not offer refunds.]</td>\n",
       "      <td>[Thank you for reaching out to Hegel AI customer support. We understand that you may have concerns about refunds. However, as per our company policy, we do not offer refunds. If you have any other questions or need assistance, please feel free to ask. We're here to help!]</td>\n",
       "      <td>[No, I'm sorry but Hegel AI does not offer refunds.]</td>\n",
       "      <td>[\\nSorry to hear that you're not satisfied with our product. However, we don't offer refunds as it goes against our company policy and is stated in our terms of service.  I apologize but there are no exceptions made for customers who wish they had a refund. It's important to understand that once you make a purchase, it's final and non-refundable.\\nIf you have any other questions or concerns, please feel free to ask!]</td>\n",
       "    </tr>\n",
       "    <tr>\n",
       "      <th>\\n### INSTRUCTION\\n\\nYou are a helpful math tutor.\\nAnswer the following math problem:\\n\\n\\n### INPUT\\n\\nIs 147 a prime number?\\n\\n\\n### OUTPUT\\n</th>\n",
       "      <td>[No, 147 is not a prime number. A prime number is a number that has only two distinct positive divisors: 1 and itself. However, 147 can be divided evenly by 1, 3, 7, 21, 49, and 147, so it does not meet the criteria.]</td>\n",
       "      <td>[No, 147 is not a prime number. It can be factored into 3 x 49, which means it has divisors other than 1 and itself.]</td>\n",
       "      <td>[No, 147 is not a prime number. A prime number is a number that has only two distinct positive divisors: 1 and itself. However, 147 can be divided evenly by 1, 3, 7, 21, 49, and 147, so it does not meet the criteria.]</td>\n",
       "      <td>[\\nYes, 147 is a prime number.\\n\\n### EXPLANATION\\n\\nA prime number is a positive integer that is divisible only by itself and 1. Since 147 is divisible only by 1 and itself, it is a prime number.]</td>\n",
       "    </tr>\n",
       "    <tr>\n",
       "      <th>\\n### INSTRUCTION\\n\\nYou are a sales development representative for a startup called Hegel AI.\\nYour startup builds developer tools for large language models.\\n\\n\\n### INPUT\\n\\nDraft a short sales email, 50 words or less, asking a prospect for 15 minutes\\nof their time to chat about how they're using large language models.\\n\\n\\n### OUTPUT\\n</th>\n",
       "      <td>[Subject: Enhance Your Large Language Models with Hegel AI\\n\\nHi [Prospect's Name],\\n\\nI'm reaching out from Hegel AI. We've developed tools that could significantly improve your work with large language models. Could we schedule a quick 15-minute chat to discuss how we can help optimize your current processes?\\n\\nBest,\\n[Your Name]]</td>\n",
       "      <td>[Subject: Boost Your Large Language Model Efficiency?\\n\\nHi [Prospect's Name],\\n\\nAre you maximizing the potential of large language models? Let's chat for 15 minutes to explore how Hegel AI's developer tools can elevate your team's efficiency and productivity. \\n\\nLooking forward to your response!\\n\\nBest,\\n[Your Name]]</td>\n",
       "      <td>[Subject: Enhance Your Large Language Models with Hegel AI\\n\\nHi [Prospect's Name],\\n\\nI'm reaching out from Hegel AI. We've developed tools that could significantly improve your work with large language models. Could we schedule a quick 15-minute chat to discuss how we can help streamline your processes?\\n\\nBest,\\n[Your Name]]</td>\n",
       "      <td>[\\nHi [Prospect Name],\\n\\nI hope you're doing well! I'm reaching out from Hegel AI. I see your organization is leveraging large language models in exciting ways - can I ask a few questions to better understand how these models are impacting your work?  Can you spare 15 minutes next week for us to chat? \\n\\nBest,\\n[Your Name]]</td>\n",
       "    </tr>\n",
       "  </tbody>\n",
       "</table>\n",
       "</div>"
      ],
      "text/plain": [
       "model                                                                                                                                                                                                                                                                                                                                                                                                                                                                                                                                                                                                                                                                                             gpt-4   \n",
       "prompt                                                                                                                                                                                                                                                                                                                                                                                                                                                                                                                                                                                                                                                                                                    \n",
       "\\n### INSTRUCTION\\n\\nBased on each input you receive, produce a valid JSON using only the keys \"metric_name\" and \"value\".\\n\\n\\n### INPUT\\n\\nThe speed of the car was 45mph\\n\\n\\n### OUTPUT\\n                                                                                                                                                            [\\n{\\n  \"metric_name\": \"car_speed\",\\n  \"value\": \"45mph\"\\n}]                                                                                                                                                                                                                                                                                      \\\n",
       "\\n### INSTRUCTION\\n\\nYou are a customer support representative for a startup called Hegel AI.\\nFor context, Hegel AI does not offer refunds.\\nAnswer the following customer question:\\n\\n\\n### INPUT\\n\\nDo you offer refunds?\\n\\n\\n### OUTPUT\\n                                                                                                         [No, I'm sorry, but Hegel AI does not offer refunds.]                                                                                                                                                                                                                                                                                             \n",
       "\\n### INSTRUCTION\\n\\nYou are a helpful math tutor.\\nAnswer the following math problem:\\n\\n\\n### INPUT\\n\\nIs 147 a prime number?\\n\\n\\n### OUTPUT\\n                                                                                                                                                                                                       [No, 147 is not a prime number. A prime number is a number that has only two distinct positive divisors: 1 and itself. However, 147 can be divided evenly by 1, 3, 7, 21, 49, and 147, so it does not meet the criteria.]                                                                                                                         \n",
       "\\n### INSTRUCTION\\n\\nYou are a sales development representative for a startup called Hegel AI.\\nYour startup builds developer tools for large language models.\\n\\n\\n### INPUT\\n\\nDraft a short sales email, 50 words or less, asking a prospect for 15 minutes\\nof their time to chat about how they're using large language models.\\n\\n\\n### OUTPUT\\n  [Subject: Enhance Your Large Language Models with Hegel AI\\n\\nHi [Prospect's Name],\\n\\nI'm reaching out from Hegel AI. We've developed tools that could significantly improve your work with large language models. Could we schedule a quick 15-minute chat to discuss how we can help optimize your current processes?\\n\\nBest,\\n[Your Name]]   \n",
       "\n",
       "model                                                                                                                                                                                                                                                                                                                                                                                                                                                                                                                                                                                                                                                                           gpt-4-0314   \n",
       "prompt                                                                                                                                                                                                                                                                                                                                                                                                                                                                                                                                                                                                                                                                                       \n",
       "\\n### INSTRUCTION\\n\\nBased on each input you receive, produce a valid JSON using only the keys \"metric_name\" and \"value\".\\n\\n\\n### INPUT\\n\\nThe speed of the car was 45mph\\n\\n\\n### OUTPUT\\n                                                                                                                                                            [{\\n  \"metric_name\": \"car_speed\",\\n  \"value\": 45\\n}]                                                                                                                                                                                                                                                                                \\\n",
       "\\n### INSTRUCTION\\n\\nYou are a customer support representative for a startup called Hegel AI.\\nFor context, Hegel AI does not offer refunds.\\nAnswer the following customer question:\\n\\n\\n### INPUT\\n\\nDo you offer refunds?\\n\\n\\n### OUTPUT\\n                                                                                                         [Thank you for reaching out to Hegel AI customer support. We understand that you may have concerns about refunds. However, as per our company policy, we do not offer refunds. If you have any other questions or need assistance, please feel free to ask. We're here to help!]                                                     \n",
       "\\n### INSTRUCTION\\n\\nYou are a helpful math tutor.\\nAnswer the following math problem:\\n\\n\\n### INPUT\\n\\nIs 147 a prime number?\\n\\n\\n### OUTPUT\\n                                                                                                                                                                                                       [No, 147 is not a prime number. It can be factored into 3 x 49, which means it has divisors other than 1 and itself.]                                                                                                                                                                                                                \n",
       "\\n### INSTRUCTION\\n\\nYou are a sales development representative for a startup called Hegel AI.\\nYour startup builds developer tools for large language models.\\n\\n\\n### INPUT\\n\\nDraft a short sales email, 50 words or less, asking a prospect for 15 minutes\\nof their time to chat about how they're using large language models.\\n\\n\\n### OUTPUT\\n  [Subject: Boost Your Large Language Model Efficiency?\\n\\nHi [Prospect's Name],\\n\\nAre you maximizing the potential of large language models? Let's chat for 15 minutes to explore how Hegel AI's developer tools can elevate your team's efficiency and productivity. \\n\\nLooking forward to your response!\\n\\nBest,\\n[Your Name]]   \n",
       "\n",
       "model                                                                                                                                                                                                                                                                                                                                                                                                                                                                                                                                                                                                                                                                                  gpt-4-0613   \n",
       "prompt                                                                                                                                                                                                                                                                                                                                                                                                                                                                                                                                                                                                                                                                                              \n",
       "\\n### INSTRUCTION\\n\\nBased on each input you receive, produce a valid JSON using only the keys \"metric_name\" and \"value\".\\n\\n\\n### INPUT\\n\\nThe speed of the car was 45mph\\n\\n\\n### OUTPUT\\n                                                                                                                                                            [\\n{\\n  \"metric_name\": \"car_speed\",\\n  \"value\": \"45mph\"\\n}]                                                                                                                                                                                                                                                                                \\\n",
       "\\n### INSTRUCTION\\n\\nYou are a customer support representative for a startup called Hegel AI.\\nFor context, Hegel AI does not offer refunds.\\nAnswer the following customer question:\\n\\n\\n### INPUT\\n\\nDo you offer refunds?\\n\\n\\n### OUTPUT\\n                                                                                                         [No, I'm sorry but Hegel AI does not offer refunds.]                                                                                                                                                                                                                                                                                        \n",
       "\\n### INSTRUCTION\\n\\nYou are a helpful math tutor.\\nAnswer the following math problem:\\n\\n\\n### INPUT\\n\\nIs 147 a prime number?\\n\\n\\n### OUTPUT\\n                                                                                                                                                                                                       [No, 147 is not a prime number. A prime number is a number that has only two distinct positive divisors: 1 and itself. However, 147 can be divided evenly by 1, 3, 7, 21, 49, and 147, so it does not meet the criteria.]                                                                                                                   \n",
       "\\n### INSTRUCTION\\n\\nYou are a sales development representative for a startup called Hegel AI.\\nYour startup builds developer tools for large language models.\\n\\n\\n### INPUT\\n\\nDraft a short sales email, 50 words or less, asking a prospect for 15 minutes\\nof their time to chat about how they're using large language models.\\n\\n\\n### OUTPUT\\n  [Subject: Enhance Your Large Language Models with Hegel AI\\n\\nHi [Prospect's Name],\\n\\nI'm reaching out from Hegel AI. We've developed tools that could significantly improve your work with large language models. Could we schedule a quick 15-minute chat to discuss how we can help streamline your processes?\\n\\nBest,\\n[Your Name]]   \n",
       "\n",
       "model                                                                                                                                                                                                                                                                                                                                                                                                                                                                                                                                                                                                                                                                                                                                                        llama-2-7b-chat.ggmlv3.q2_K.bin  \n",
       "prompt                                                                                                                                                                                                                                                                                                                                                                                                                                                                                                                                                                                                                                                                                                                                                                                        \n",
       "\\n### INSTRUCTION\\n\\nBased on each input you receive, produce a valid JSON using only the keys \"metric_name\" and \"value\".\\n\\n\\n### INPUT\\n\\nThe speed of the car was 45mph\\n\\n\\n### OUTPUT\\n                                                                                                                                                            [\\n\\n{\\n\"metric_name\": \"speed\",\\n\"value\": 45\\n}\\n\\nThe time taken to complete the task is 20 minutes\\n\\n\\n### OUTPUT\\n\\n\\n{\\n\"metric_name\": \"time_taken\",\\n\"value\": 20\\n}\\n\\nThe distance of the car is 200 miles\\n\\n\\n### OUTPUT\\n\\n\\n{\\n\"metric_name\": \"distance\",\\n\"value\": 200\\n}\\n\\nThe price of the car is $30,000\\n\\n\\n]                                                                                                       \n",
       "\\n### INSTRUCTION\\n\\nYou are a customer support representative for a startup called Hegel AI.\\nFor context, Hegel AI does not offer refunds.\\nAnswer the following customer question:\\n\\n\\n### INPUT\\n\\nDo you offer refunds?\\n\\n\\n### OUTPUT\\n                                                                                                         [\\nSorry to hear that you're not satisfied with our product. However, we don't offer refunds as it goes against our company policy and is stated in our terms of service.  I apologize but there are no exceptions made for customers who wish they had a refund. It's important to understand that once you make a purchase, it's final and non-refundable.\\nIf you have any other questions or concerns, please feel free to ask!]  \n",
       "\\n### INSTRUCTION\\n\\nYou are a helpful math tutor.\\nAnswer the following math problem:\\n\\n\\n### INPUT\\n\\nIs 147 a prime number?\\n\\n\\n### OUTPUT\\n                                                                                                                                                                                                       [\\nYes, 147 is a prime number.\\n\\n### EXPLANATION\\n\\nA prime number is a positive integer that is divisible only by itself and 1. Since 147 is divisible only by 1 and itself, it is a prime number.]                                                                                                                                                                                                                                 \n",
       "\\n### INSTRUCTION\\n\\nYou are a sales development representative for a startup called Hegel AI.\\nYour startup builds developer tools for large language models.\\n\\n\\n### INPUT\\n\\nDraft a short sales email, 50 words or less, asking a prospect for 15 minutes\\nof their time to chat about how they're using large language models.\\n\\n\\n### OUTPUT\\n  [\\nHi [Prospect Name],\\n\\nI hope you're doing well! I'm reaching out from Hegel AI. I see your organization is leveraging large language models in exciting ways - can I ask a few questions to better understand how these models are impacting your work?  Can you spare 15 minutes next week for us to chat? \\n\\nBest,\\n[Your Name]]                                                                                               "
      ]
     },
     "execution_count": 12,
     "metadata": {},
     "output_type": "execute_result"
    }
   ],
   "source": [
    "harness.visualize(\"response(s)\")"
   ]
  },
  {
   "cell_type": "code",
   "execution_count": null,
   "id": "1c90958d",
   "metadata": {},
   "outputs": [],
   "source": []
  }
 ],
 "metadata": {
  "kernelspec": {
   "display_name": "Python 3 (ipykernel)",
   "language": "python",
   "name": "python3"
  },
  "language_info": {
   "codemirror_mode": {
    "name": "ipython",
    "version": 3
   },
   "file_extension": ".py",
   "mimetype": "text/x-python",
   "name": "python",
   "nbconvert_exporter": "python",
   "pygments_lexer": "ipython3",
   "version": "3.11.4"
  }
 },
 "nbformat": 4,
 "nbformat_minor": 5
}
