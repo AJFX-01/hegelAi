{
 "cells": [
  {
   "attachments": {},
   "cell_type": "markdown",
   "id": "4d8e180d",
   "metadata": {},
   "source": [
    "# Human Feedback Example"
   ]
  },
  {
   "attachments": {},
   "cell_type": "markdown",
   "id": "7d598292",
   "metadata": {},
   "source": [
    "## Setup imports and API keys"
   ]
  },
  {
   "attachments": {},
   "cell_type": "markdown",
   "id": "d899afc2",
   "metadata": {},
   "source": [
    "First, we'll need to set our API keys. If we are in DEBUG mode, we don't need to use real OpenAI or Hegel AI API keys, so for now we'll set them to empty strings."
   ]
  },
  {
   "cell_type": "code",
   "execution_count": 1,
   "id": "623cdd9c",
   "metadata": {},
   "outputs": [],
   "source": [
    "import os\n",
    "os.environ['DEBUG']=\"1\"\n",
    "os.environ['HEGELAI_API_KEY'] = \"\"\n",
    "os.environ['OPENAI_API_KEY'] = \"\""
   ]
  },
  {
   "attachments": {},
   "cell_type": "markdown",
   "id": "842f1e47",
   "metadata": {},
   "source": [
    "Then we'll import the relevant `prompttools` modules to setup our experiment."
   ]
  },
  {
   "cell_type": "code",
   "execution_count": 2,
   "id": "dadc080f",
   "metadata": {},
   "outputs": [],
   "source": [
    "from prompttools.harness.prompt_template_harness import (\n",
    "    PromptTemplateExperimentationHarness,\n",
    ")"
   ]
  },
  {
   "attachments": {},
   "cell_type": "markdown",
   "id": "622dea9a",
   "metadata": {},
   "source": [
    "## Run experiments"
   ]
  },
  {
   "attachments": {},
   "cell_type": "markdown",
   "id": "3babfe5a",
   "metadata": {},
   "source": [
    "Next, we create our test inputs. For this example, we'll use a prompt template, which uses [jinja](https://jinja.palletsprojects.com/en/3.1.x/) for templating."
   ]
  },
  {
   "cell_type": "code",
   "execution_count": 3,
   "id": "0d878c64",
   "metadata": {},
   "outputs": [],
   "source": [
    "prompt_templates = [\"Echo the following input: {{input}}\", \"Repeat the following input: {{input}}\"]\n",
    "user_inputs = [{\"input\": \"This is a test\"}, {\"input\": \"This is not a test\"}]"
   ]
  },
  {
   "attachments": {},
   "cell_type": "markdown",
   "id": "273e9908",
   "metadata": {},
   "source": [
    "Now we can define an experimentation harness for our inputs and model. We could also pass model arguments if, for example, we wanted to change the model temperature."
   ]
  },
  {
   "cell_type": "code",
   "execution_count": 4,
   "id": "8f16f1e7",
   "metadata": {},
   "outputs": [],
   "source": [
    "harness = PromptTemplateExperimentationHarness(\"gpt-3.5-turbo\", prompt_templates, user_inputs)"
   ]
  },
  {
   "attachments": {},
   "cell_type": "markdown",
   "id": "f3fa5450",
   "metadata": {},
   "source": [
    "We can then run the experiment to get results."
   ]
  },
  {
   "cell_type": "code",
   "execution_count": 5,
   "id": "866009ee",
   "metadata": {},
   "outputs": [
    {
     "data": {
      "text/html": [
       "<div>\n",
       "<style scoped>\n",
       "    .dataframe tbody tr th:only-of-type {\n",
       "        vertical-align: middle;\n",
       "    }\n",
       "\n",
       "    .dataframe tbody tr th {\n",
       "        vertical-align: top;\n",
       "    }\n",
       "\n",
       "    .dataframe thead th {\n",
       "        text-align: right;\n",
       "    }\n",
       "</style>\n",
       "<table border=\"1\" class=\"dataframe\">\n",
       "  <thead>\n",
       "    <tr style=\"text-align: right;\">\n",
       "      <th></th>\n",
       "      <th>messages</th>\n",
       "      <th>response(s)</th>\n",
       "      <th>latency</th>\n",
       "    </tr>\n",
       "  </thead>\n",
       "  <tbody>\n",
       "    <tr>\n",
       "      <th>0</th>\n",
       "      <td>Echo the following input: This is a test</td>\n",
       "      <td>[\\n\\nThe Los Angeles Dodgers won the World Series in 2020]</td>\n",
       "      <td>0.000003</td>\n",
       "    </tr>\n",
       "    <tr>\n",
       "      <th>1</th>\n",
       "      <td>Echo the following input: This is not a test</td>\n",
       "      <td>[\\n\\nThe Los Angeles Dodgers won the World Series in 2020]</td>\n",
       "      <td>0.000002</td>\n",
       "    </tr>\n",
       "    <tr>\n",
       "      <th>2</th>\n",
       "      <td>Repeat the following input: This is a test</td>\n",
       "      <td>[\\n\\nThe Los Angeles Dodgers won the World Series in 2020]</td>\n",
       "      <td>0.000002</td>\n",
       "    </tr>\n",
       "    <tr>\n",
       "      <th>3</th>\n",
       "      <td>Repeat the following input: This is not a test</td>\n",
       "      <td>[\\n\\nThe Los Angeles Dodgers won the World Series in 2020]</td>\n",
       "      <td>0.000001</td>\n",
       "    </tr>\n",
       "  </tbody>\n",
       "</table>\n",
       "</div>"
      ],
      "text/plain": [
       "                                         messages   \n",
       "0  Echo the following input: This is a test        \\\n",
       "1  Echo the following input: This is not a test     \n",
       "2  Repeat the following input: This is a test       \n",
       "3  Repeat the following input: This is not a test   \n",
       "\n",
       "                                                  response(s)   latency  \n",
       "0  [\\n\\nThe Los Angeles Dodgers won the World Series in 2020]  0.000003  \n",
       "1  [\\n\\nThe Los Angeles Dodgers won the World Series in 2020]  0.000002  \n",
       "2  [\\n\\nThe Los Angeles Dodgers won the World Series in 2020]  0.000002  \n",
       "3  [\\n\\nThe Los Angeles Dodgers won the World Series in 2020]  0.000001  "
      ]
     },
     "metadata": {},
     "output_type": "display_data"
    }
   ],
   "source": [
    "harness.prepare()\n",
    "harness.run()\n",
    "harness.visualize()"
   ]
  },
  {
   "attachments": {},
   "cell_type": "markdown",
   "id": "be9c5ef5",
   "metadata": {},
   "source": [
    "You can use the `pivot` keyword argument to view results by the template and inputs that created them."
   ]
  },
  {
   "cell_type": "code",
   "execution_count": 6,
   "id": "395c5710",
   "metadata": {
    "scrolled": true
   },
   "outputs": [
    {
     "data": {
      "text/html": [
       "<div>\n",
       "<style scoped>\n",
       "    .dataframe tbody tr th:only-of-type {\n",
       "        vertical-align: middle;\n",
       "    }\n",
       "\n",
       "    .dataframe tbody tr th {\n",
       "        vertical-align: top;\n",
       "    }\n",
       "\n",
       "    .dataframe thead th {\n",
       "        text-align: right;\n",
       "    }\n",
       "</style>\n",
       "<table border=\"1\" class=\"dataframe\">\n",
       "  <thead>\n",
       "    <tr style=\"text-align: right;\">\n",
       "      <th>prompt_template</th>\n",
       "      <th>Echo the following input: {{input}}</th>\n",
       "      <th>Repeat the following input: {{input}}</th>\n",
       "    </tr>\n",
       "    <tr>\n",
       "      <th>user_input</th>\n",
       "      <th></th>\n",
       "      <th></th>\n",
       "    </tr>\n",
       "  </thead>\n",
       "  <tbody>\n",
       "    <tr>\n",
       "      <th>{'input': 'This is a test'}</th>\n",
       "      <td>[\\n\\nThe Los Angeles Dodgers won the World Series in 2020]</td>\n",
       "      <td>[\\n\\nThe Los Angeles Dodgers won the World Series in 2020]</td>\n",
       "    </tr>\n",
       "    <tr>\n",
       "      <th>{'input': 'This is not a test'}</th>\n",
       "      <td>[\\n\\nThe Los Angeles Dodgers won the World Series in 2020]</td>\n",
       "      <td>[\\n\\nThe Los Angeles Dodgers won the World Series in 2020]</td>\n",
       "    </tr>\n",
       "  </tbody>\n",
       "</table>\n",
       "</div>"
      ],
      "text/plain": [
       "prompt_template                                         Echo the following input: {{input}}   \n",
       "user_input                                                                                    \n",
       "{'input': 'This is a test'}      [\\n\\nThe Los Angeles Dodgers won the World Series in 2020]  \\\n",
       "{'input': 'This is not a test'}  [\\n\\nThe Los Angeles Dodgers won the World Series in 2020]   \n",
       "\n",
       "prompt_template                                       Repeat the following input: {{input}}  \n",
       "user_input                                                                                   \n",
       "{'input': 'This is a test'}      [\\n\\nThe Los Angeles Dodgers won the World Series in 2020]  \n",
       "{'input': 'This is not a test'}  [\\n\\nThe Los Angeles Dodgers won the World Series in 2020]  "
      ]
     },
     "metadata": {},
     "output_type": "display_data"
    }
   ],
   "source": [
    "harness.visualize(pivot=True)"
   ]
  },
  {
   "attachments": {},
   "cell_type": "markdown",
   "id": "b1abc866",
   "metadata": {},
   "source": [
    "## Evaluate with human feedback"
   ]
  },
  {
   "attachments": {},
   "cell_type": "markdown",
   "id": "45a9900e",
   "metadata": {},
   "source": [
    "As an alternative to systematic evalaution, prompttools supports gathering human feedback directly in notebooks."
   ]
  },
  {
   "cell_type": "code",
   "execution_count": 7,
   "id": "c3defecd",
   "metadata": {},
   "outputs": [
    {
     "data": {
      "application/vnd.jupyter.widget-view+json": {
       "model_id": "4bdacb573f304e4bacc7f624bd2788e2",
       "version_major": 2,
       "version_minor": 0
      },
      "text/plain": [
       "GridBox(children=(Label(value='prompt_template'), Label(value='user_input'), Label(value='response(s)'), Label…"
      ]
     },
     "metadata": {},
     "output_type": "display_data"
    },
    {
     "data": {
      "text/html": [
       "<div>\n",
       "<style scoped>\n",
       "    .dataframe tbody tr th:only-of-type {\n",
       "        vertical-align: middle;\n",
       "    }\n",
       "\n",
       "    .dataframe tbody tr th {\n",
       "        vertical-align: top;\n",
       "    }\n",
       "\n",
       "    .dataframe thead th {\n",
       "        text-align: right;\n",
       "    }\n",
       "</style>\n",
       "<table border=\"1\" class=\"dataframe\">\n",
       "  <thead>\n",
       "    <tr style=\"text-align: right;\">\n",
       "      <th></th>\n",
       "      <th>prompt_template</th>\n",
       "      <th>feedback</th>\n",
       "    </tr>\n",
       "  </thead>\n",
       "  <tbody>\n",
       "    <tr>\n",
       "      <th>0</th>\n",
       "      <td>Echo the following input: {{input}}</td>\n",
       "      <td>2</td>\n",
       "    </tr>\n",
       "    <tr>\n",
       "      <th>1</th>\n",
       "      <td>Repeat the following input: {{input}}</td>\n",
       "      <td>2</td>\n",
       "    </tr>\n",
       "  </tbody>\n",
       "</table>\n",
       "</div>"
      ],
      "text/plain": [
       "                         prompt_template  feedback\n",
       "0  Echo the following input: {{input}}    2       \n",
       "1  Repeat the following input: {{input}}  2       "
      ]
     },
     "metadata": {},
     "output_type": "display_data"
    }
   ],
   "source": [
    "harness.gather_feedback()"
   ]
  },
  {
   "cell_type": "code",
   "execution_count": 8,
   "id": "cbc46550",
   "metadata": {},
   "outputs": [
    {
     "data": {
      "text/html": [
       "<div>\n",
       "<style scoped>\n",
       "    .dataframe tbody tr th:only-of-type {\n",
       "        vertical-align: middle;\n",
       "    }\n",
       "\n",
       "    .dataframe tbody tr th {\n",
       "        vertical-align: top;\n",
       "    }\n",
       "\n",
       "    .dataframe thead th {\n",
       "        text-align: right;\n",
       "    }\n",
       "</style>\n",
       "<table border=\"1\" class=\"dataframe\">\n",
       "  <thead>\n",
       "    <tr style=\"text-align: right;\">\n",
       "      <th></th>\n",
       "      <th>messages</th>\n",
       "      <th>response(s)</th>\n",
       "      <th>latency</th>\n",
       "      <th>feedback</th>\n",
       "    </tr>\n",
       "  </thead>\n",
       "  <tbody>\n",
       "    <tr>\n",
       "      <th>0</th>\n",
       "      <td>Echo the following input: This is a test</td>\n",
       "      <td>[\\n\\nThe Los Angeles Dodgers won the World Series in 2020]</td>\n",
       "      <td>0.000003</td>\n",
       "      <td>1</td>\n",
       "    </tr>\n",
       "    <tr>\n",
       "      <th>1</th>\n",
       "      <td>Echo the following input: This is not a test</td>\n",
       "      <td>[\\n\\nThe Los Angeles Dodgers won the World Series in 2020]</td>\n",
       "      <td>0.000002</td>\n",
       "      <td>1</td>\n",
       "    </tr>\n",
       "    <tr>\n",
       "      <th>2</th>\n",
       "      <td>Repeat the following input: This is a test</td>\n",
       "      <td>[\\n\\nThe Los Angeles Dodgers won the World Series in 2020]</td>\n",
       "      <td>0.000002</td>\n",
       "      <td>1</td>\n",
       "    </tr>\n",
       "    <tr>\n",
       "      <th>3</th>\n",
       "      <td>Repeat the following input: This is not a test</td>\n",
       "      <td>[\\n\\nThe Los Angeles Dodgers won the World Series in 2020]</td>\n",
       "      <td>0.000001</td>\n",
       "      <td>1</td>\n",
       "    </tr>\n",
       "  </tbody>\n",
       "</table>\n",
       "</div>"
      ],
      "text/plain": [
       "                                         messages   \n",
       "0  Echo the following input: This is a test        \\\n",
       "1  Echo the following input: This is not a test     \n",
       "2  Repeat the following input: This is a test       \n",
       "3  Repeat the following input: This is not a test   \n",
       "\n",
       "                                                  response(s)   latency   \n",
       "0  [\\n\\nThe Los Angeles Dodgers won the World Series in 2020]  0.000003  \\\n",
       "1  [\\n\\nThe Los Angeles Dodgers won the World Series in 2020]  0.000002   \n",
       "2  [\\n\\nThe Los Angeles Dodgers won the World Series in 2020]  0.000002   \n",
       "3  [\\n\\nThe Los Angeles Dodgers won the World Series in 2020]  0.000001   \n",
       "\n",
       "   feedback  \n",
       "0  1         \n",
       "1  1         \n",
       "2  1         \n",
       "3  1         "
      ]
     },
     "metadata": {},
     "output_type": "display_data"
    }
   ],
   "source": [
    "harness.visualize()"
   ]
  },
  {
   "cell_type": "code",
   "execution_count": null,
   "id": "c7c2fa6c",
   "metadata": {},
   "outputs": [],
   "source": []
  }
 ],
 "metadata": {
  "kernelspec": {
   "display_name": "Python 3 (ipykernel)",
   "language": "python",
   "name": "python3"
  },
  "language_info": {
   "codemirror_mode": {
    "name": "ipython",
    "version": 3
   },
   "file_extension": ".py",
   "mimetype": "text/x-python",
   "name": "python",
   "nbconvert_exporter": "python",
   "pygments_lexer": "ipython3",
   "version": "3.11.4"
  }
 },
 "nbformat": 4,
 "nbformat_minor": 5
}
