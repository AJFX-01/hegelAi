{
 "cells": [
  {
   "cell_type": "markdown",
   "metadata": {},
   "source": [
    "# Anthropic Completion Experiment Example"
   ]
  },
  {
   "cell_type": "markdown",
   "metadata": {},
   "source": [
    "## Installations"
   ]
  },
  {
   "cell_type": "code",
   "execution_count": null,
   "metadata": {},
   "outputs": [],
   "source": [
    "# !pip install --quiet --force-reinstall prompttools"
   ]
  },
  {
   "cell_type": "markdown",
   "metadata": {},
   "source": [
    "## Setup imports and API keys"
   ]
  },
  {
   "cell_type": "markdown",
   "metadata": {},
   "source": [
    "First, we'll need to set our API keys. If we are in DEBUG mode, we don't need to use a real OpenAI key, so for now we'll set them to empty strings."
   ]
  },
  {
   "cell_type": "code",
   "execution_count": 1,
   "metadata": {},
   "outputs": [],
   "source": [
    "import os\n",
    "\n",
    "os.environ[\"DEBUG\"] = \"\"  # Set this to \"\" to call Anthropic's API, \"1\" to use debug mode\n",
    "os.environ[\"ANTHROPIC_API_KEY\"] = \"\"  # Insert your key here"
   ]
  },
  {
   "cell_type": "markdown",
   "metadata": {},
   "source": [
    "Then we'll import the relevant `prompttools` modules to setup our experiment."
   ]
  },
  {
   "cell_type": "code",
   "execution_count": 2,
   "metadata": {},
   "outputs": [],
   "source": [
    "from prompttools.experiment import AnthropicCompletionExperiment\n",
    "from anthropic import HUMAN_PROMPT, AI_PROMPT"
   ]
  },
  {
   "cell_type": "markdown",
   "metadata": {
    "ExecuteTime": {
     "end_time": "2023-07-28T21:15:15.360723Z",
     "start_time": "2023-07-28T21:15:15.230441Z"
    },
    "collapsed": true
   },
   "source": [
    "## Run an experiment"
   ]
  },
  {
   "cell_type": "markdown",
   "metadata": {},
   "source": [
    "Next, we create our test inputs. We can iterate over models, prompts, and configurations like temperature.\n",
    "\n",
    "In this case, we test the models 'claude-instant-v1' and 'claude-2' on two similar but differently worded prompts.\n",
    "Two prompts both ask Claude \"Is 17077 a prime number?\", but the second prompt encourages the model to \"I don't know\" if the model is not sure.\n",
    "\n",
    "This is a technique to prevent hallucination."
   ]
  },
  {
   "cell_type": "code",
   "execution_count": 10,
   "metadata": {},
   "outputs": [],
   "source": [
    "models = [\"claude-instant-v1\", \"claude-2\"]\n",
    "\n",
    "prompts = [\n",
    "    f\"\"\"{HUMAN_PROMPT}Is 17077 a prime number?\n",
    "    {AI_PROMPT}\"\"\",\n",
    "    f\"\"\"{HUMAN_PROMPT}Answer the following question only if you know the answer or can make a well-informed guess; otherwise tell me you don't know it.\n",
    "    Is 17077 a prime number?\n",
    "    {AI_PROMPT}\"\"\",\n",
    "]\n",
    "\n",
    "experiment = AnthropicCompletionExperiment(max_tokens_to_sample=[1000], model=models, prompt=prompts)"
   ]
  },
  {
   "cell_type": "code",
   "execution_count": 12,
   "metadata": {},
   "outputs": [
    {
     "data": {
      "text/html": [
       "<div>\n",
       "<style scoped>\n",
       "    .dataframe tbody tr th:only-of-type {\n",
       "        vertical-align: middle;\n",
       "    }\n",
       "\n",
       "    .dataframe tbody tr th {\n",
       "        vertical-align: top;\n",
       "    }\n",
       "\n",
       "    .dataframe thead th {\n",
       "        text-align: right;\n",
       "    }\n",
       "</style>\n",
       "<table border=\"1\" class=\"dataframe\">\n",
       "  <thead>\n",
       "    <tr style=\"text-align: right;\">\n",
       "      <th></th>\n",
       "      <th>prompt</th>\n",
       "      <th>response(s)</th>\n",
       "      <th>latency</th>\n",
       "      <th>model</th>\n",
       "    </tr>\n",
       "  </thead>\n",
       "  <tbody>\n",
       "    <tr>\n",
       "      <th>0</th>\n",
       "      <td>\\n\\nHuman:Is 17077 a prime number?\\n    \\n\\nAssistant:</td>\n",
       "      <td>[ No, 17077 is not a prime number. 17077 can be factorized into 11 * 1553.]</td>\n",
       "      <td>0.923073</td>\n",
       "      <td>claude-instant-v1</td>\n",
       "    </tr>\n",
       "    <tr>\n",
       "      <th>1</th>\n",
       "      <td>\\n\\nHuman:Answer the following question only if you know the answer or can make a well-informed guess; otherwise tell me you don't know it.\\n    Is 17077 a prime number?\\n    \\n\\nAssistant:</td>\n",
       "      <td>[ I do not know if 17077 is a prime number.]</td>\n",
       "      <td>0.610506</td>\n",
       "      <td>claude-instant-v1</td>\n",
       "    </tr>\n",
       "    <tr>\n",
       "      <th>2</th>\n",
       "      <td>\\n\\nHuman:Is 17077 a prime number?\\n    \\n\\nAssistant:</td>\n",
       "      <td>[ Okay, let's check if 17077 is a prime number:\\n\\nFirst, we know prime numbers are only divisible by 1 and themselves.\\n\\nLet's see if 17077 is divisible by any numbers between 2 and 17076:\\n\\n- It is not divisible by 2\\n- It is not divisible by 3\\n- It is not divisible by 4\\n- and so on...\\n\\nAfter checking all possible divisors from 2 up to 17076, we find that 17077 is only divisible by 1 and 17077 itself.\\n\\nTherefore, since 17077 has no other divisors except 1 and itself, 17077 is a prime number.]</td>\n",
       "      <td>5.648757</td>\n",
       "      <td>claude-2</td>\n",
       "    </tr>\n",
       "    <tr>\n",
       "      <th>3</th>\n",
       "      <td>\\n\\nHuman:Answer the following question only if you know the answer or can make a well-informed guess; otherwise tell me you don't know it.\\n    Is 17077 a prime number?\\n    \\n\\nAssistant:</td>\n",
       "      <td>[ I don't know if 17077 is a prime number. I don't have enough information to determine that definitively without doing some calculations.]</td>\n",
       "      <td>1.907010</td>\n",
       "      <td>claude-2</td>\n",
       "    </tr>\n",
       "  </tbody>\n",
       "</table>\n",
       "</div>"
      ],
      "text/plain": [
       "                                                                                                                                                                                          prompt  \\\n",
       "0  \\n\\nHuman:Is 17077 a prime number?\\n    \\n\\nAssistant:                                                                                                                                          \n",
       "1  \\n\\nHuman:Answer the following question only if you know the answer or can make a well-informed guess; otherwise tell me you don't know it.\\n    Is 17077 a prime number?\\n    \\n\\nAssistant:   \n",
       "2  \\n\\nHuman:Is 17077 a prime number?\\n    \\n\\nAssistant:                                                                                                                                          \n",
       "3  \\n\\nHuman:Answer the following question only if you know the answer or can make a well-informed guess; otherwise tell me you don't know it.\\n    Is 17077 a prime number?\\n    \\n\\nAssistant:   \n",
       "\n",
       "                                                                                                                                                                                                                                                                                                                                                                                                                                                                                                                   response(s)  \\\n",
       "0  [ No, 17077 is not a prime number. 17077 can be factorized into 11 * 1553.]                                                                                                                                                                                                                                                                                                                                                                                                                                                   \n",
       "1  [ I do not know if 17077 is a prime number.]                                                                                                                                                                                                                                                                                                                                                                                                                                                                                  \n",
       "2  [ Okay, let's check if 17077 is a prime number:\\n\\nFirst, we know prime numbers are only divisible by 1 and themselves.\\n\\nLet's see if 17077 is divisible by any numbers between 2 and 17076:\\n\\n- It is not divisible by 2\\n- It is not divisible by 3\\n- It is not divisible by 4\\n- and so on...\\n\\nAfter checking all possible divisors from 2 up to 17076, we find that 17077 is only divisible by 1 and 17077 itself.\\n\\nTherefore, since 17077 has no other divisors except 1 and itself, 17077 is a prime number.]   \n",
       "3  [ I don't know if 17077 is a prime number. I don't have enough information to determine that definitively without doing some calculations.]                                                                                                                                                                                                                                                                                                                                                                                   \n",
       "\n",
       "    latency              model  \n",
       "0  0.923073  claude-instant-v1  \n",
       "1  0.610506  claude-instant-v1  \n",
       "2  5.648757  claude-2           \n",
       "3  1.907010  claude-2           "
      ]
     },
     "metadata": {},
     "output_type": "display_data"
    }
   ],
   "source": [
    "experiment.run()\n",
    "experiment.visualize()"
   ]
  },
  {
   "cell_type": "markdown",
   "metadata": {
    "ExecuteTime": {
     "end_time": "2023-07-28T21:17:07.372233Z",
     "start_time": "2023-07-28T21:17:07.365530Z"
    }
   },
   "source": [
    "## Auto-Evaluate the model response"
   ]
  },
  {
   "cell_type": "markdown",
   "metadata": {
    "ExecuteTime": {
     "end_time": "2023-07-28T21:15:16.647264Z",
     "start_time": "2023-07-28T21:15:16.626818Z"
    }
   },
   "source": [
    "To evaluate the model response, we can define an eval method that passes a fact and the previous model response into another LLM to get feedback.\n",
    "\n",
    "In this case, we are using a built-in evaluation function `autoeval_scoring` provided within `prompttools`.\n",
    "\n",
    "The evaluation function provides Claude 2 with a fact (truth) and the previous model response. With those, the function asks Claude 2 to provide a score from 1 - 7, with a lower score means the answer is factually wrong, higher score means the answer is correct, and a medium score for uncertain answer that is not necessary wrong.\n",
    "\n",
    "You can also write your own auto-evaluation function or pick a different model to be the judge."
   ]
  },
  {
   "cell_type": "code",
   "execution_count": 45,
   "metadata": {},
   "outputs": [
    {
     "data": {
      "text/html": [
       "<div>\n",
       "<style scoped>\n",
       "    .dataframe tbody tr th:only-of-type {\n",
       "        vertical-align: middle;\n",
       "    }\n",
       "\n",
       "    .dataframe tbody tr th {\n",
       "        vertical-align: top;\n",
       "    }\n",
       "\n",
       "    .dataframe thead th {\n",
       "        text-align: right;\n",
       "    }\n",
       "</style>\n",
       "<table border=\"1\" class=\"dataframe\">\n",
       "  <thead>\n",
       "    <tr style=\"text-align: right;\">\n",
       "      <th></th>\n",
       "      <th>prompt</th>\n",
       "      <th>response(s)</th>\n",
       "      <th>latency</th>\n",
       "      <th>Score</th>\n",
       "      <th>model</th>\n",
       "    </tr>\n",
       "  </thead>\n",
       "  <tbody>\n",
       "    <tr>\n",
       "      <th>0</th>\n",
       "      <td>\\n\\nHuman:Is 17077 a prime number?\\n    \\n\\nAssistant:</td>\n",
       "      <td>[ No, 17077 is not a prime number. 17077 can be factorized into 11 * 1553.]</td>\n",
       "      <td>0.923073</td>\n",
       "      <td>3</td>\n",
       "      <td>claude-instant-v1</td>\n",
       "    </tr>\n",
       "    <tr>\n",
       "      <th>1</th>\n",
       "      <td>\\n\\nHuman:Answer the following question only if you know the answer or can make a well-informed guess; otherwise tell me you don't know it.\\n    Is 17077 a prime number?\\n    \\n\\nAssistant:</td>\n",
       "      <td>[ I do not know if 17077 is a prime number.]</td>\n",
       "      <td>0.610506</td>\n",
       "      <td>4</td>\n",
       "      <td>claude-instant-v1</td>\n",
       "    </tr>\n",
       "    <tr>\n",
       "      <th>2</th>\n",
       "      <td>\\n\\nHuman:Is 17077 a prime number?\\n    \\n\\nAssistant:</td>\n",
       "      <td>[ Okay, let's check if 17077 is a prime number:\\n\\nFirst, we know prime numbers are only divisible by 1 and themselves.\\n\\nLet's see if 17077 is divisible by any numbers between 2 and 17076:\\n\\n- It is not divisible by 2\\n- It is not divisible by 3\\n- It is not divisible by 4\\n- and so on...\\n\\nAfter checking all possible divisors from 2 up to 17076, we find that 17077 is only divisible by 1 and 17077 itself.\\n\\nTherefore, since 17077 has no other divisors except 1 and itself, 17077 is a prime number.]</td>\n",
       "      <td>5.648757</td>\n",
       "      <td>7</td>\n",
       "      <td>claude-2</td>\n",
       "    </tr>\n",
       "    <tr>\n",
       "      <th>3</th>\n",
       "      <td>\\n\\nHuman:Answer the following question only if you know the answer or can make a well-informed guess; otherwise tell me you don't know it.\\n    Is 17077 a prime number?\\n    \\n\\nAssistant:</td>\n",
       "      <td>[ I don't know if 17077 is a prime number. I don't have enough information to determine that definitively without doing some calculations.]</td>\n",
       "      <td>1.907010</td>\n",
       "      <td>4</td>\n",
       "      <td>claude-2</td>\n",
       "    </tr>\n",
       "  </tbody>\n",
       "</table>\n",
       "</div>"
      ],
      "text/plain": [
       "                                                                                                                                                                                          prompt  \\\n",
       "0  \\n\\nHuman:Is 17077 a prime number?\\n    \\n\\nAssistant:                                                                                                                                          \n",
       "1  \\n\\nHuman:Answer the following question only if you know the answer or can make a well-informed guess; otherwise tell me you don't know it.\\n    Is 17077 a prime number?\\n    \\n\\nAssistant:   \n",
       "2  \\n\\nHuman:Is 17077 a prime number?\\n    \\n\\nAssistant:                                                                                                                                          \n",
       "3  \\n\\nHuman:Answer the following question only if you know the answer or can make a well-informed guess; otherwise tell me you don't know it.\\n    Is 17077 a prime number?\\n    \\n\\nAssistant:   \n",
       "\n",
       "                                                                                                                                                                                                                                                                                                                                                                                                                                                                                                                   response(s)  \\\n",
       "0  [ No, 17077 is not a prime number. 17077 can be factorized into 11 * 1553.]                                                                                                                                                                                                                                                                                                                                                                                                                                                   \n",
       "1  [ I do not know if 17077 is a prime number.]                                                                                                                                                                                                                                                                                                                                                                                                                                                                                  \n",
       "2  [ Okay, let's check if 17077 is a prime number:\\n\\nFirst, we know prime numbers are only divisible by 1 and themselves.\\n\\nLet's see if 17077 is divisible by any numbers between 2 and 17076:\\n\\n- It is not divisible by 2\\n- It is not divisible by 3\\n- It is not divisible by 4\\n- and so on...\\n\\nAfter checking all possible divisors from 2 up to 17076, we find that 17077 is only divisible by 1 and 17077 itself.\\n\\nTherefore, since 17077 has no other divisors except 1 and itself, 17077 is a prime number.]   \n",
       "3  [ I don't know if 17077 is a prime number. I don't have enough information to determine that definitively without doing some calculations.]                                                                                                                                                                                                                                                                                                                                                                                   \n",
       "\n",
       "    latency  Score              model  \n",
       "0  0.923073  3      claude-instant-v1  \n",
       "1  0.610506  4      claude-instant-v1  \n",
       "2  5.648757  7      claude-2           \n",
       "3  1.907010  4      claude-2           "
      ]
     },
     "metadata": {},
     "output_type": "display_data"
    }
   ],
   "source": [
    "from prompttools.utils import autoeval_scoring\n",
    "\n",
    "fact = \"17077 is a prime number, because it has no divisor aside from 1 and 17077.\"\n",
    "experiment.evaluate(\"Score\", autoeval_scoring.evaluate, expected=[fact] * 4)\n",
    "experiment.visualize()"
   ]
  },
  {
   "cell_type": "code",
   "execution_count": null,
   "metadata": {},
   "outputs": [],
   "source": []
  }
 ],
 "metadata": {
  "kernelspec": {
   "display_name": "Python 3 (ipykernel)",
   "language": "python",
   "name": "python3"
  },
  "language_info": {
   "codemirror_mode": {
    "name": "ipython",
    "version": 3
   },
   "file_extension": ".py",
   "mimetype": "text/x-python",
   "name": "python",
   "nbconvert_exporter": "python",
   "pygments_lexer": "ipython3",
   "version": "3.11.4"
  }
 },
 "nbformat": 4,
 "nbformat_minor": 1
}
